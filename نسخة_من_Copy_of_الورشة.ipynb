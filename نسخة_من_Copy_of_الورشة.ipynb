{
  "nbformat": 4,
  "nbformat_minor": 0,
  "metadata": {
    "colab": {
      "provenance": [],
      "collapsed_sections": [
        "8aQBY3D58t08",
        "XcZPz1fInoUF",
        "0Gsd8rW-ooXk",
        "zUefsULJubuS",
        "iiPkveASOvki",
        "MT243uTSO066",
        "8IiAPZkTO4ji",
        "rFPigcbzO7_z",
        "n0W2bl4bO_-D",
        "WHHzdoxAdDWu",
        "5DT9He9kjY9z",
        "3M55HQjpktB5",
        "UAcnSZsX4FwJ",
        "U9OU14FPksZL",
        "y6UCdsbRJNh-",
        "NQRb8yAO3zVF",
        "aWFG-aJY09lR"
      ],
      "mount_file_id": "1PdaX4fHVx7xOlcJ5jVw4z9UB19pp320I",
      "authorship_tag": "ABX9TyODZpn49Gdtn0hGJCw8U55O",
      "include_colab_link": true
    },
    "kernelspec": {
      "name": "python3",
      "display_name": "Python 3"
    },
    "language_info": {
      "name": "python"
    }
  },
  "cells": [
    {
      "cell_type": "markdown",
      "metadata": {
        "id": "view-in-github",
        "colab_type": "text"
      },
      "source": [
        "<a href=\"https://colab.research.google.com/github/Mo-Alshebli/Mr-Amazing-/blob/main/%D9%86%D8%B3%D8%AE%D8%A9_%D9%85%D9%86_Copy_of_%D8%A7%D9%84%D9%88%D8%B1%D8%B4%D8%A9.ipynb\" target=\"_parent\"><img src=\"https://colab.research.google.com/assets/colab-badge.svg\" alt=\"Open In Colab\"/></a>"
      ]
    },
    {
      "cell_type": "markdown",
      "source": [
        "## دورة حياة مشاريع الذكاء الاصطناعي"
      ],
      "metadata": {
        "id": "8aQBY3D58t08"
      }
    },
    {
      "cell_type": "markdown",
      "source": [],
      "metadata": {
        "id": "zcHwbswPB7E7"
      }
    },
    {
      "cell_type": "markdown",
      "source": [
        "### جمع البيانات"
      ],
      "metadata": {
        "id": "XcZPz1fInoUF"
      }
    },
    {
      "cell_type": "code",
      "source": [
        "# 1. Definition of the Problem\n",
        "# The objective is to classify patients into different drug types based on their characteristics.\n",
        "from sklearn.tree import DecisionTreeClassifier\n",
        "from sklearn.metrics import accuracy_score\n",
        "from sklearn.linear_model import LogisticRegression\n",
        "import pandas as pd"
      ],
      "metadata": {
        "id": "KPvsT0KontLn"
      },
      "execution_count": null,
      "outputs": []
    },
    {
      "cell_type": "code",
      "source": [
        "# 2. Data Collection\n",
        "data = pd.read_csv('/content/drive/MyDrive/الورشة/drug200.csv')\n",
        "data"
      ],
      "metadata": {
        "colab": {
          "base_uri": "https://localhost:8080/",
          "height": 424
        },
        "id": "-dNq0MLpns5M",
        "outputId": "386fb9cc-9950-432a-a633-e7d63ae03336"
      },
      "execution_count": null,
      "outputs": [
        {
          "output_type": "execute_result",
          "data": {
            "text/plain": [
              "     Age Sex      BP Cholesterol  Na_to_K   Drug\n",
              "0     23   F    HIGH        HIGH   25.355  DrugY\n",
              "1     47   M     LOW        HIGH   13.093  drugC\n",
              "2     47   M     LOW        HIGH   10.114  drugC\n",
              "3     28   F  NORMAL        HIGH    7.798  drugX\n",
              "4     61   F     LOW        HIGH   18.043  DrugY\n",
              "..   ...  ..     ...         ...      ...    ...\n",
              "195   56   F     LOW        HIGH   11.567  drugC\n",
              "196   16   M     LOW        HIGH   12.006  drugC\n",
              "197   52   M  NORMAL        HIGH    9.894  drugX\n",
              "198   23   M  NORMAL      NORMAL   14.020  drugX\n",
              "199   40   F     LOW      NORMAL   11.349  drugX\n",
              "\n",
              "[200 rows x 6 columns]"
            ],
            "text/html": [
              "\n",
              "  <div id=\"df-6478acab-c18a-406d-a14e-13441d29e70a\" class=\"colab-df-container\">\n",
              "    <div>\n",
              "<style scoped>\n",
              "    .dataframe tbody tr th:only-of-type {\n",
              "        vertical-align: middle;\n",
              "    }\n",
              "\n",
              "    .dataframe tbody tr th {\n",
              "        vertical-align: top;\n",
              "    }\n",
              "\n",
              "    .dataframe thead th {\n",
              "        text-align: right;\n",
              "    }\n",
              "</style>\n",
              "<table border=\"1\" class=\"dataframe\">\n",
              "  <thead>\n",
              "    <tr style=\"text-align: right;\">\n",
              "      <th></th>\n",
              "      <th>Age</th>\n",
              "      <th>Sex</th>\n",
              "      <th>BP</th>\n",
              "      <th>Cholesterol</th>\n",
              "      <th>Na_to_K</th>\n",
              "      <th>Drug</th>\n",
              "    </tr>\n",
              "  </thead>\n",
              "  <tbody>\n",
              "    <tr>\n",
              "      <th>0</th>\n",
              "      <td>23</td>\n",
              "      <td>F</td>\n",
              "      <td>HIGH</td>\n",
              "      <td>HIGH</td>\n",
              "      <td>25.355</td>\n",
              "      <td>DrugY</td>\n",
              "    </tr>\n",
              "    <tr>\n",
              "      <th>1</th>\n",
              "      <td>47</td>\n",
              "      <td>M</td>\n",
              "      <td>LOW</td>\n",
              "      <td>HIGH</td>\n",
              "      <td>13.093</td>\n",
              "      <td>drugC</td>\n",
              "    </tr>\n",
              "    <tr>\n",
              "      <th>2</th>\n",
              "      <td>47</td>\n",
              "      <td>M</td>\n",
              "      <td>LOW</td>\n",
              "      <td>HIGH</td>\n",
              "      <td>10.114</td>\n",
              "      <td>drugC</td>\n",
              "    </tr>\n",
              "    <tr>\n",
              "      <th>3</th>\n",
              "      <td>28</td>\n",
              "      <td>F</td>\n",
              "      <td>NORMAL</td>\n",
              "      <td>HIGH</td>\n",
              "      <td>7.798</td>\n",
              "      <td>drugX</td>\n",
              "    </tr>\n",
              "    <tr>\n",
              "      <th>4</th>\n",
              "      <td>61</td>\n",
              "      <td>F</td>\n",
              "      <td>LOW</td>\n",
              "      <td>HIGH</td>\n",
              "      <td>18.043</td>\n",
              "      <td>DrugY</td>\n",
              "    </tr>\n",
              "    <tr>\n",
              "      <th>...</th>\n",
              "      <td>...</td>\n",
              "      <td>...</td>\n",
              "      <td>...</td>\n",
              "      <td>...</td>\n",
              "      <td>...</td>\n",
              "      <td>...</td>\n",
              "    </tr>\n",
              "    <tr>\n",
              "      <th>195</th>\n",
              "      <td>56</td>\n",
              "      <td>F</td>\n",
              "      <td>LOW</td>\n",
              "      <td>HIGH</td>\n",
              "      <td>11.567</td>\n",
              "      <td>drugC</td>\n",
              "    </tr>\n",
              "    <tr>\n",
              "      <th>196</th>\n",
              "      <td>16</td>\n",
              "      <td>M</td>\n",
              "      <td>LOW</td>\n",
              "      <td>HIGH</td>\n",
              "      <td>12.006</td>\n",
              "      <td>drugC</td>\n",
              "    </tr>\n",
              "    <tr>\n",
              "      <th>197</th>\n",
              "      <td>52</td>\n",
              "      <td>M</td>\n",
              "      <td>NORMAL</td>\n",
              "      <td>HIGH</td>\n",
              "      <td>9.894</td>\n",
              "      <td>drugX</td>\n",
              "    </tr>\n",
              "    <tr>\n",
              "      <th>198</th>\n",
              "      <td>23</td>\n",
              "      <td>M</td>\n",
              "      <td>NORMAL</td>\n",
              "      <td>NORMAL</td>\n",
              "      <td>14.020</td>\n",
              "      <td>drugX</td>\n",
              "    </tr>\n",
              "    <tr>\n",
              "      <th>199</th>\n",
              "      <td>40</td>\n",
              "      <td>F</td>\n",
              "      <td>LOW</td>\n",
              "      <td>NORMAL</td>\n",
              "      <td>11.349</td>\n",
              "      <td>drugX</td>\n",
              "    </tr>\n",
              "  </tbody>\n",
              "</table>\n",
              "<p>200 rows × 6 columns</p>\n",
              "</div>\n",
              "    <div class=\"colab-df-buttons\">\n",
              "\n",
              "  <div class=\"colab-df-container\">\n",
              "    <button class=\"colab-df-convert\" onclick=\"convertToInteractive('df-6478acab-c18a-406d-a14e-13441d29e70a')\"\n",
              "            title=\"Convert this dataframe to an interactive table.\"\n",
              "            style=\"display:none;\">\n",
              "\n",
              "  <svg xmlns=\"http://www.w3.org/2000/svg\" height=\"24px\" viewBox=\"0 -960 960 960\">\n",
              "    <path d=\"M120-120v-720h720v720H120Zm60-500h600v-160H180v160Zm220 220h160v-160H400v160Zm0 220h160v-160H400v160ZM180-400h160v-160H180v160Zm440 0h160v-160H620v160ZM180-180h160v-160H180v160Zm440 0h160v-160H620v160Z\"/>\n",
              "  </svg>\n",
              "    </button>\n",
              "\n",
              "  <style>\n",
              "    .colab-df-container {\n",
              "      display:flex;\n",
              "      gap: 12px;\n",
              "    }\n",
              "\n",
              "    .colab-df-convert {\n",
              "      background-color: #E8F0FE;\n",
              "      border: none;\n",
              "      border-radius: 50%;\n",
              "      cursor: pointer;\n",
              "      display: none;\n",
              "      fill: #1967D2;\n",
              "      height: 32px;\n",
              "      padding: 0 0 0 0;\n",
              "      width: 32px;\n",
              "    }\n",
              "\n",
              "    .colab-df-convert:hover {\n",
              "      background-color: #E2EBFA;\n",
              "      box-shadow: 0px 1px 2px rgba(60, 64, 67, 0.3), 0px 1px 3px 1px rgba(60, 64, 67, 0.15);\n",
              "      fill: #174EA6;\n",
              "    }\n",
              "\n",
              "    .colab-df-buttons div {\n",
              "      margin-bottom: 4px;\n",
              "    }\n",
              "\n",
              "    [theme=dark] .colab-df-convert {\n",
              "      background-color: #3B4455;\n",
              "      fill: #D2E3FC;\n",
              "    }\n",
              "\n",
              "    [theme=dark] .colab-df-convert:hover {\n",
              "      background-color: #434B5C;\n",
              "      box-shadow: 0px 1px 3px 1px rgba(0, 0, 0, 0.15);\n",
              "      filter: drop-shadow(0px 1px 2px rgba(0, 0, 0, 0.3));\n",
              "      fill: #FFFFFF;\n",
              "    }\n",
              "  </style>\n",
              "\n",
              "    <script>\n",
              "      const buttonEl =\n",
              "        document.querySelector('#df-6478acab-c18a-406d-a14e-13441d29e70a button.colab-df-convert');\n",
              "      buttonEl.style.display =\n",
              "        google.colab.kernel.accessAllowed ? 'block' : 'none';\n",
              "\n",
              "      async function convertToInteractive(key) {\n",
              "        const element = document.querySelector('#df-6478acab-c18a-406d-a14e-13441d29e70a');\n",
              "        const dataTable =\n",
              "          await google.colab.kernel.invokeFunction('convertToInteractive',\n",
              "                                                    [key], {});\n",
              "        if (!dataTable) return;\n",
              "\n",
              "        const docLinkHtml = 'Like what you see? Visit the ' +\n",
              "          '<a target=\"_blank\" href=https://colab.research.google.com/notebooks/data_table.ipynb>data table notebook</a>'\n",
              "          + ' to learn more about interactive tables.';\n",
              "        element.innerHTML = '';\n",
              "        dataTable['output_type'] = 'display_data';\n",
              "        await google.colab.output.renderOutput(dataTable, element);\n",
              "        const docLink = document.createElement('div');\n",
              "        docLink.innerHTML = docLinkHtml;\n",
              "        element.appendChild(docLink);\n",
              "      }\n",
              "    </script>\n",
              "  </div>\n",
              "\n",
              "\n",
              "<div id=\"df-f8ea6a54-b7b1-4039-a8af-ad8d5d349693\">\n",
              "  <button class=\"colab-df-quickchart\" onclick=\"quickchart('df-f8ea6a54-b7b1-4039-a8af-ad8d5d349693')\"\n",
              "            title=\"Suggest charts.\"\n",
              "            style=\"display:none;\">\n",
              "\n",
              "<svg xmlns=\"http://www.w3.org/2000/svg\" height=\"24px\"viewBox=\"0 0 24 24\"\n",
              "     width=\"24px\">\n",
              "    <g>\n",
              "        <path d=\"M19 3H5c-1.1 0-2 .9-2 2v14c0 1.1.9 2 2 2h14c1.1 0 2-.9 2-2V5c0-1.1-.9-2-2-2zM9 17H7v-7h2v7zm4 0h-2V7h2v10zm4 0h-2v-4h2v4z\"/>\n",
              "    </g>\n",
              "</svg>\n",
              "  </button>\n",
              "\n",
              "<style>\n",
              "  .colab-df-quickchart {\n",
              "      --bg-color: #E8F0FE;\n",
              "      --fill-color: #1967D2;\n",
              "      --hover-bg-color: #E2EBFA;\n",
              "      --hover-fill-color: #174EA6;\n",
              "      --disabled-fill-color: #AAA;\n",
              "      --disabled-bg-color: #DDD;\n",
              "  }\n",
              "\n",
              "  [theme=dark] .colab-df-quickchart {\n",
              "      --bg-color: #3B4455;\n",
              "      --fill-color: #D2E3FC;\n",
              "      --hover-bg-color: #434B5C;\n",
              "      --hover-fill-color: #FFFFFF;\n",
              "      --disabled-bg-color: #3B4455;\n",
              "      --disabled-fill-color: #666;\n",
              "  }\n",
              "\n",
              "  .colab-df-quickchart {\n",
              "    background-color: var(--bg-color);\n",
              "    border: none;\n",
              "    border-radius: 50%;\n",
              "    cursor: pointer;\n",
              "    display: none;\n",
              "    fill: var(--fill-color);\n",
              "    height: 32px;\n",
              "    padding: 0;\n",
              "    width: 32px;\n",
              "  }\n",
              "\n",
              "  .colab-df-quickchart:hover {\n",
              "    background-color: var(--hover-bg-color);\n",
              "    box-shadow: 0 1px 2px rgba(60, 64, 67, 0.3), 0 1px 3px 1px rgba(60, 64, 67, 0.15);\n",
              "    fill: var(--button-hover-fill-color);\n",
              "  }\n",
              "\n",
              "  .colab-df-quickchart-complete:disabled,\n",
              "  .colab-df-quickchart-complete:disabled:hover {\n",
              "    background-color: var(--disabled-bg-color);\n",
              "    fill: var(--disabled-fill-color);\n",
              "    box-shadow: none;\n",
              "  }\n",
              "\n",
              "  .colab-df-spinner {\n",
              "    border: 2px solid var(--fill-color);\n",
              "    border-color: transparent;\n",
              "    border-bottom-color: var(--fill-color);\n",
              "    animation:\n",
              "      spin 1s steps(1) infinite;\n",
              "  }\n",
              "\n",
              "  @keyframes spin {\n",
              "    0% {\n",
              "      border-color: transparent;\n",
              "      border-bottom-color: var(--fill-color);\n",
              "      border-left-color: var(--fill-color);\n",
              "    }\n",
              "    20% {\n",
              "      border-color: transparent;\n",
              "      border-left-color: var(--fill-color);\n",
              "      border-top-color: var(--fill-color);\n",
              "    }\n",
              "    30% {\n",
              "      border-color: transparent;\n",
              "      border-left-color: var(--fill-color);\n",
              "      border-top-color: var(--fill-color);\n",
              "      border-right-color: var(--fill-color);\n",
              "    }\n",
              "    40% {\n",
              "      border-color: transparent;\n",
              "      border-right-color: var(--fill-color);\n",
              "      border-top-color: var(--fill-color);\n",
              "    }\n",
              "    60% {\n",
              "      border-color: transparent;\n",
              "      border-right-color: var(--fill-color);\n",
              "    }\n",
              "    80% {\n",
              "      border-color: transparent;\n",
              "      border-right-color: var(--fill-color);\n",
              "      border-bottom-color: var(--fill-color);\n",
              "    }\n",
              "    90% {\n",
              "      border-color: transparent;\n",
              "      border-bottom-color: var(--fill-color);\n",
              "    }\n",
              "  }\n",
              "</style>\n",
              "\n",
              "  <script>\n",
              "    async function quickchart(key) {\n",
              "      const quickchartButtonEl =\n",
              "        document.querySelector('#' + key + ' button');\n",
              "      quickchartButtonEl.disabled = true;  // To prevent multiple clicks.\n",
              "      quickchartButtonEl.classList.add('colab-df-spinner');\n",
              "      try {\n",
              "        const charts = await google.colab.kernel.invokeFunction(\n",
              "            'suggestCharts', [key], {});\n",
              "      } catch (error) {\n",
              "        console.error('Error during call to suggestCharts:', error);\n",
              "      }\n",
              "      quickchartButtonEl.classList.remove('colab-df-spinner');\n",
              "      quickchartButtonEl.classList.add('colab-df-quickchart-complete');\n",
              "    }\n",
              "    (() => {\n",
              "      let quickchartButtonEl =\n",
              "        document.querySelector('#df-f8ea6a54-b7b1-4039-a8af-ad8d5d349693 button');\n",
              "      quickchartButtonEl.style.display =\n",
              "        google.colab.kernel.accessAllowed ? 'block' : 'none';\n",
              "    })();\n",
              "  </script>\n",
              "</div>\n",
              "    </div>\n",
              "  </div>\n"
            ]
          },
          "metadata": {},
          "execution_count": 100
        }
      ]
    },
    {
      "cell_type": "markdown",
      "source": [
        "### تنظيف البيانات وتجهيزها"
      ],
      "metadata": {
        "id": "0Gsd8rW-ooXk"
      }
    },
    {
      "cell_type": "code",
      "source": [
        "data.describe()"
      ],
      "metadata": {
        "colab": {
          "base_uri": "https://localhost:8080/",
          "height": 300
        },
        "id": "0JceH-d6GNHl",
        "outputId": "cdc86261-29bb-4eed-b96d-daeae2241d40"
      },
      "execution_count": null,
      "outputs": [
        {
          "output_type": "execute_result",
          "data": {
            "text/plain": [
              "              Age     Na_to_K\n",
              "count  200.000000  200.000000\n",
              "mean    44.315000   16.084485\n",
              "std     16.544315    7.223956\n",
              "min     15.000000    6.269000\n",
              "25%     31.000000   10.445500\n",
              "50%     45.000000   13.936500\n",
              "75%     58.000000   19.380000\n",
              "max     74.000000   38.247000"
            ],
            "text/html": [
              "\n",
              "  <div id=\"df-aab9da1f-8dfc-4e2c-912a-8087b847b921\" class=\"colab-df-container\">\n",
              "    <div>\n",
              "<style scoped>\n",
              "    .dataframe tbody tr th:only-of-type {\n",
              "        vertical-align: middle;\n",
              "    }\n",
              "\n",
              "    .dataframe tbody tr th {\n",
              "        vertical-align: top;\n",
              "    }\n",
              "\n",
              "    .dataframe thead th {\n",
              "        text-align: right;\n",
              "    }\n",
              "</style>\n",
              "<table border=\"1\" class=\"dataframe\">\n",
              "  <thead>\n",
              "    <tr style=\"text-align: right;\">\n",
              "      <th></th>\n",
              "      <th>Age</th>\n",
              "      <th>Na_to_K</th>\n",
              "    </tr>\n",
              "  </thead>\n",
              "  <tbody>\n",
              "    <tr>\n",
              "      <th>count</th>\n",
              "      <td>200.000000</td>\n",
              "      <td>200.000000</td>\n",
              "    </tr>\n",
              "    <tr>\n",
              "      <th>mean</th>\n",
              "      <td>44.315000</td>\n",
              "      <td>16.084485</td>\n",
              "    </tr>\n",
              "    <tr>\n",
              "      <th>std</th>\n",
              "      <td>16.544315</td>\n",
              "      <td>7.223956</td>\n",
              "    </tr>\n",
              "    <tr>\n",
              "      <th>min</th>\n",
              "      <td>15.000000</td>\n",
              "      <td>6.269000</td>\n",
              "    </tr>\n",
              "    <tr>\n",
              "      <th>25%</th>\n",
              "      <td>31.000000</td>\n",
              "      <td>10.445500</td>\n",
              "    </tr>\n",
              "    <tr>\n",
              "      <th>50%</th>\n",
              "      <td>45.000000</td>\n",
              "      <td>13.936500</td>\n",
              "    </tr>\n",
              "    <tr>\n",
              "      <th>75%</th>\n",
              "      <td>58.000000</td>\n",
              "      <td>19.380000</td>\n",
              "    </tr>\n",
              "    <tr>\n",
              "      <th>max</th>\n",
              "      <td>74.000000</td>\n",
              "      <td>38.247000</td>\n",
              "    </tr>\n",
              "  </tbody>\n",
              "</table>\n",
              "</div>\n",
              "    <div class=\"colab-df-buttons\">\n",
              "\n",
              "  <div class=\"colab-df-container\">\n",
              "    <button class=\"colab-df-convert\" onclick=\"convertToInteractive('df-aab9da1f-8dfc-4e2c-912a-8087b847b921')\"\n",
              "            title=\"Convert this dataframe to an interactive table.\"\n",
              "            style=\"display:none;\">\n",
              "\n",
              "  <svg xmlns=\"http://www.w3.org/2000/svg\" height=\"24px\" viewBox=\"0 -960 960 960\">\n",
              "    <path d=\"M120-120v-720h720v720H120Zm60-500h600v-160H180v160Zm220 220h160v-160H400v160Zm0 220h160v-160H400v160ZM180-400h160v-160H180v160Zm440 0h160v-160H620v160ZM180-180h160v-160H180v160Zm440 0h160v-160H620v160Z\"/>\n",
              "  </svg>\n",
              "    </button>\n",
              "\n",
              "  <style>\n",
              "    .colab-df-container {\n",
              "      display:flex;\n",
              "      gap: 12px;\n",
              "    }\n",
              "\n",
              "    .colab-df-convert {\n",
              "      background-color: #E8F0FE;\n",
              "      border: none;\n",
              "      border-radius: 50%;\n",
              "      cursor: pointer;\n",
              "      display: none;\n",
              "      fill: #1967D2;\n",
              "      height: 32px;\n",
              "      padding: 0 0 0 0;\n",
              "      width: 32px;\n",
              "    }\n",
              "\n",
              "    .colab-df-convert:hover {\n",
              "      background-color: #E2EBFA;\n",
              "      box-shadow: 0px 1px 2px rgba(60, 64, 67, 0.3), 0px 1px 3px 1px rgba(60, 64, 67, 0.15);\n",
              "      fill: #174EA6;\n",
              "    }\n",
              "\n",
              "    .colab-df-buttons div {\n",
              "      margin-bottom: 4px;\n",
              "    }\n",
              "\n",
              "    [theme=dark] .colab-df-convert {\n",
              "      background-color: #3B4455;\n",
              "      fill: #D2E3FC;\n",
              "    }\n",
              "\n",
              "    [theme=dark] .colab-df-convert:hover {\n",
              "      background-color: #434B5C;\n",
              "      box-shadow: 0px 1px 3px 1px rgba(0, 0, 0, 0.15);\n",
              "      filter: drop-shadow(0px 1px 2px rgba(0, 0, 0, 0.3));\n",
              "      fill: #FFFFFF;\n",
              "    }\n",
              "  </style>\n",
              "\n",
              "    <script>\n",
              "      const buttonEl =\n",
              "        document.querySelector('#df-aab9da1f-8dfc-4e2c-912a-8087b847b921 button.colab-df-convert');\n",
              "      buttonEl.style.display =\n",
              "        google.colab.kernel.accessAllowed ? 'block' : 'none';\n",
              "\n",
              "      async function convertToInteractive(key) {\n",
              "        const element = document.querySelector('#df-aab9da1f-8dfc-4e2c-912a-8087b847b921');\n",
              "        const dataTable =\n",
              "          await google.colab.kernel.invokeFunction('convertToInteractive',\n",
              "                                                    [key], {});\n",
              "        if (!dataTable) return;\n",
              "\n",
              "        const docLinkHtml = 'Like what you see? Visit the ' +\n",
              "          '<a target=\"_blank\" href=https://colab.research.google.com/notebooks/data_table.ipynb>data table notebook</a>'\n",
              "          + ' to learn more about interactive tables.';\n",
              "        element.innerHTML = '';\n",
              "        dataTable['output_type'] = 'display_data';\n",
              "        await google.colab.output.renderOutput(dataTable, element);\n",
              "        const docLink = document.createElement('div');\n",
              "        docLink.innerHTML = docLinkHtml;\n",
              "        element.appendChild(docLink);\n",
              "      }\n",
              "    </script>\n",
              "  </div>\n",
              "\n",
              "\n",
              "<div id=\"df-31d7c2d8-5972-42e9-9578-c0eafd632acd\">\n",
              "  <button class=\"colab-df-quickchart\" onclick=\"quickchart('df-31d7c2d8-5972-42e9-9578-c0eafd632acd')\"\n",
              "            title=\"Suggest charts.\"\n",
              "            style=\"display:none;\">\n",
              "\n",
              "<svg xmlns=\"http://www.w3.org/2000/svg\" height=\"24px\"viewBox=\"0 0 24 24\"\n",
              "     width=\"24px\">\n",
              "    <g>\n",
              "        <path d=\"M19 3H5c-1.1 0-2 .9-2 2v14c0 1.1.9 2 2 2h14c1.1 0 2-.9 2-2V5c0-1.1-.9-2-2-2zM9 17H7v-7h2v7zm4 0h-2V7h2v10zm4 0h-2v-4h2v4z\"/>\n",
              "    </g>\n",
              "</svg>\n",
              "  </button>\n",
              "\n",
              "<style>\n",
              "  .colab-df-quickchart {\n",
              "      --bg-color: #E8F0FE;\n",
              "      --fill-color: #1967D2;\n",
              "      --hover-bg-color: #E2EBFA;\n",
              "      --hover-fill-color: #174EA6;\n",
              "      --disabled-fill-color: #AAA;\n",
              "      --disabled-bg-color: #DDD;\n",
              "  }\n",
              "\n",
              "  [theme=dark] .colab-df-quickchart {\n",
              "      --bg-color: #3B4455;\n",
              "      --fill-color: #D2E3FC;\n",
              "      --hover-bg-color: #434B5C;\n",
              "      --hover-fill-color: #FFFFFF;\n",
              "      --disabled-bg-color: #3B4455;\n",
              "      --disabled-fill-color: #666;\n",
              "  }\n",
              "\n",
              "  .colab-df-quickchart {\n",
              "    background-color: var(--bg-color);\n",
              "    border: none;\n",
              "    border-radius: 50%;\n",
              "    cursor: pointer;\n",
              "    display: none;\n",
              "    fill: var(--fill-color);\n",
              "    height: 32px;\n",
              "    padding: 0;\n",
              "    width: 32px;\n",
              "  }\n",
              "\n",
              "  .colab-df-quickchart:hover {\n",
              "    background-color: var(--hover-bg-color);\n",
              "    box-shadow: 0 1px 2px rgba(60, 64, 67, 0.3), 0 1px 3px 1px rgba(60, 64, 67, 0.15);\n",
              "    fill: var(--button-hover-fill-color);\n",
              "  }\n",
              "\n",
              "  .colab-df-quickchart-complete:disabled,\n",
              "  .colab-df-quickchart-complete:disabled:hover {\n",
              "    background-color: var(--disabled-bg-color);\n",
              "    fill: var(--disabled-fill-color);\n",
              "    box-shadow: none;\n",
              "  }\n",
              "\n",
              "  .colab-df-spinner {\n",
              "    border: 2px solid var(--fill-color);\n",
              "    border-color: transparent;\n",
              "    border-bottom-color: var(--fill-color);\n",
              "    animation:\n",
              "      spin 1s steps(1) infinite;\n",
              "  }\n",
              "\n",
              "  @keyframes spin {\n",
              "    0% {\n",
              "      border-color: transparent;\n",
              "      border-bottom-color: var(--fill-color);\n",
              "      border-left-color: var(--fill-color);\n",
              "    }\n",
              "    20% {\n",
              "      border-color: transparent;\n",
              "      border-left-color: var(--fill-color);\n",
              "      border-top-color: var(--fill-color);\n",
              "    }\n",
              "    30% {\n",
              "      border-color: transparent;\n",
              "      border-left-color: var(--fill-color);\n",
              "      border-top-color: var(--fill-color);\n",
              "      border-right-color: var(--fill-color);\n",
              "    }\n",
              "    40% {\n",
              "      border-color: transparent;\n",
              "      border-right-color: var(--fill-color);\n",
              "      border-top-color: var(--fill-color);\n",
              "    }\n",
              "    60% {\n",
              "      border-color: transparent;\n",
              "      border-right-color: var(--fill-color);\n",
              "    }\n",
              "    80% {\n",
              "      border-color: transparent;\n",
              "      border-right-color: var(--fill-color);\n",
              "      border-bottom-color: var(--fill-color);\n",
              "    }\n",
              "    90% {\n",
              "      border-color: transparent;\n",
              "      border-bottom-color: var(--fill-color);\n",
              "    }\n",
              "  }\n",
              "</style>\n",
              "\n",
              "  <script>\n",
              "    async function quickchart(key) {\n",
              "      const quickchartButtonEl =\n",
              "        document.querySelector('#' + key + ' button');\n",
              "      quickchartButtonEl.disabled = true;  // To prevent multiple clicks.\n",
              "      quickchartButtonEl.classList.add('colab-df-spinner');\n",
              "      try {\n",
              "        const charts = await google.colab.kernel.invokeFunction(\n",
              "            'suggestCharts', [key], {});\n",
              "      } catch (error) {\n",
              "        console.error('Error during call to suggestCharts:', error);\n",
              "      }\n",
              "      quickchartButtonEl.classList.remove('colab-df-spinner');\n",
              "      quickchartButtonEl.classList.add('colab-df-quickchart-complete');\n",
              "    }\n",
              "    (() => {\n",
              "      let quickchartButtonEl =\n",
              "        document.querySelector('#df-31d7c2d8-5972-42e9-9578-c0eafd632acd button');\n",
              "      quickchartButtonEl.style.display =\n",
              "        google.colab.kernel.accessAllowed ? 'block' : 'none';\n",
              "    })();\n",
              "  </script>\n",
              "</div>\n",
              "    </div>\n",
              "  </div>\n"
            ]
          },
          "metadata": {},
          "execution_count": 101
        }
      ]
    },
    {
      "cell_type": "code",
      "source": [
        "data.isna().sum()\n"
      ],
      "metadata": {
        "colab": {
          "base_uri": "https://localhost:8080/"
        },
        "id": "8jSqrmDWFBCv",
        "outputId": "186837cb-9486-430b-e633-63d2ef72b24f"
      },
      "execution_count": null,
      "outputs": [
        {
          "output_type": "execute_result",
          "data": {
            "text/plain": [
              "Age            0\n",
              "Sex            0\n",
              "BP             0\n",
              "Cholesterol    0\n",
              "Na_to_K        0\n",
              "Drug           0\n",
              "dtype: int64"
            ]
          },
          "metadata": {},
          "execution_count": 102
        }
      ]
    },
    {
      "cell_type": "code",
      "source": [
        "# Copy code\n",
        "# 1. Handle Missing Values\n",
        "# For categorical columns, fill with mode\n",
        "for column in ['Sex', 'BP', 'Cholesterol', 'Drug']:\n",
        "    mode_val = data[column].mode()[0]\n",
        "    data[column].fillna(mode_val, inplace=True)\n",
        "\n",
        "# For numerical columns, fill with median\n",
        "for column in ['Age', 'Na_to_K']:\n",
        "    median_val = data[column].median()\n",
        "    data[column].fillna(median_val, inplace=True)"
      ],
      "metadata": {
        "id": "zIUbJWfjPxRP"
      },
      "execution_count": null,
      "outputs": []
    },
    {
      "cell_type": "code",
      "source": [
        "data.isna().sum()\n"
      ],
      "metadata": {
        "colab": {
          "base_uri": "https://localhost:8080/"
        },
        "id": "_eoYvQ55Pzlv",
        "outputId": "c9ce6257-2201-4b1d-b09d-54d3ed4e45b9"
      },
      "execution_count": null,
      "outputs": [
        {
          "output_type": "execute_result",
          "data": {
            "text/plain": [
              "Age            0\n",
              "Sex            0\n",
              "BP             0\n",
              "Cholesterol    0\n",
              "Na_to_K        0\n",
              "Drug           0\n",
              "dtype: int64"
            ]
          },
          "metadata": {},
          "execution_count": 104
        }
      ]
    },
    {
      "cell_type": "code",
      "source": [
        "from sklearn.impute import SimpleImputer\n",
        "from scipy.stats import zscore\n",
        "\n",
        "# 1. Handle Missing Values: Using mean for numerical columns and most frequent for categorical columns\n",
        "num_imputer = SimpleImputer(strategy='mean')\n",
        "cat_imputer = SimpleImputer(strategy='most_frequent')\n",
        "\n",
        "# Numerical columns\n",
        "data['Age'] = num_imputer.fit_transform(data[['Age']])\n",
        "data['Na_to_K'] = num_imputer.fit_transform(data[['Na_to_K']])\n",
        "\n",
        "# Categorical columns\n",
        "data['Sex'] = cat_imputer.fit_transform(data[['Sex']])\n",
        "data['BP'] = cat_imputer.fit_transform(data[['BP']])\n",
        "data['Cholesterol'] = cat_imputer.fit_transform(data[['Cholesterol']])\n",
        "data['Drug'] = cat_imputer.fit_transform(data[['Drug']])\n",
        "data.isna().sum()\n"
      ],
      "metadata": {
        "colab": {
          "base_uri": "https://localhost:8080/"
        },
        "id": "a0Px5ri1FoLX",
        "outputId": "75dc4b80-721a-4d77-d69f-cb9fb7399915"
      },
      "execution_count": null,
      "outputs": [
        {
          "output_type": "execute_result",
          "data": {
            "text/plain": [
              "Age            0\n",
              "Sex            0\n",
              "BP             0\n",
              "Cholesterol    0\n",
              "Na_to_K        0\n",
              "Drug           0\n",
              "dtype: int64"
            ]
          },
          "metadata": {},
          "execution_count": 105
        }
      ]
    },
    {
      "cell_type": "code",
      "source": [
        "data.duplicated().sum()"
      ],
      "metadata": {
        "colab": {
          "base_uri": "https://localhost:8080/"
        },
        "id": "3E0nJ132v1pB",
        "outputId": "4251cd52-ce2e-4812-c426-c91cc5c97f35"
      },
      "execution_count": null,
      "outputs": [
        {
          "output_type": "execute_result",
          "data": {
            "text/plain": [
              "0"
            ]
          },
          "metadata": {},
          "execution_count": 106
        }
      ]
    },
    {
      "cell_type": "code",
      "source": [
        "data.drop_duplicates(inplace=True)\n"
      ],
      "metadata": {
        "id": "N8nMpbDGFr7W"
      },
      "execution_count": null,
      "outputs": []
    },
    {
      "cell_type": "code",
      "source": [
        "data.duplicated().sum()"
      ],
      "metadata": {
        "colab": {
          "base_uri": "https://localhost:8080/"
        },
        "id": "t-OrGo4sv6aH",
        "outputId": "decdba09-b3ff-4e64-da1b-5bc143fa07bd"
      },
      "execution_count": null,
      "outputs": [
        {
          "output_type": "execute_result",
          "data": {
            "text/plain": [
              "0"
            ]
          },
          "metadata": {},
          "execution_count": 108
        }
      ]
    },
    {
      "cell_type": "code",
      "source": [
        "data['Sex'].unique()"
      ],
      "metadata": {
        "colab": {
          "base_uri": "https://localhost:8080/"
        },
        "id": "kTyZiEDCF4Jy",
        "outputId": "0d505af8-010c-4193-e5be-18cef6920885"
      },
      "execution_count": null,
      "outputs": [
        {
          "output_type": "execute_result",
          "data": {
            "text/plain": [
              "array(['F', 'M'], dtype=object)"
            ]
          },
          "metadata": {},
          "execution_count": 109
        }
      ]
    },
    {
      "cell_type": "code",
      "source": [
        "\n",
        "# 5. Handle Typos\n",
        "# Correct known typos in the Sex and Cholesterol columns\n",
        "data['Sex'] = data['Sex'].replace({'Famale': 'F', 'Mael': 'M'})\n",
        "data['Cholesterol'] = data['Cholesterol'].replace({'NORMAAL': 'NORMAL'})\n",
        "\n"
      ],
      "metadata": {
        "id": "XdfiXnEJDGiG"
      },
      "execution_count": null,
      "outputs": []
    },
    {
      "cell_type": "code",
      "source": [
        "data['Sex'].unique()"
      ],
      "metadata": {
        "colab": {
          "base_uri": "https://localhost:8080/"
        },
        "id": "BwrI88sNv_TD",
        "outputId": "beadad14-ef2a-401e-d6e5-0d1fa828d740"
      },
      "execution_count": null,
      "outputs": [
        {
          "output_type": "execute_result",
          "data": {
            "text/plain": [
              "array(['F', 'M'], dtype=object)"
            ]
          },
          "metadata": {},
          "execution_count": 111
        }
      ]
    },
    {
      "cell_type": "code",
      "source": [
        "\n",
        "\n",
        "\n",
        "# sex_mapping = {'Famale': 'F', 'Mael': 'M'}\n",
        "# dirty_data['Sex'] = dirty_data['Sex'].replace(sex_mapping)\n",
        "\n",
        "# cholesterol_mapping = {'NORMAAL': 'NORMAL'}\n",
        "# dirty_data['Cholesterol'] = dirty_data['Cholesterol'].replace(cholesterol_mapping)"
      ],
      "metadata": {
        "id": "YcXnjJLRRk6M"
      },
      "execution_count": null,
      "outputs": []
    },
    {
      "cell_type": "code",
      "source": [
        "data.dropna(inplace=True)"
      ],
      "metadata": {
        "id": "PuCh3iCw2yJV"
      },
      "execution_count": null,
      "outputs": []
    },
    {
      "cell_type": "code",
      "source": [
        "from sklearn.preprocessing import LabelEncoder\n",
        "\n",
        "# Initialize LabelEncoder\n",
        "le = LabelEncoder()\n",
        "\n",
        "# Create a copy of the data to apply label encoding\n",
        "data_label_encoded = data.copy()\n",
        "\n",
        "# Apply LabelEncoder to the categorical columns\n",
        "data['Sex'] = le.fit_transform(data['Sex'])\n",
        "data['BP'] = le.fit_transform(data['BP'])\n",
        "data['Cholesterol'] = le.fit_transform(data['Cholesterol'])\n",
        "data['Drug'] = le.fit_transform(data['Drug'])\n",
        "\n",
        "data.head()\n"
      ],
      "metadata": {
        "id": "iluU6Z6MphTw",
        "colab": {
          "base_uri": "https://localhost:8080/",
          "height": 206
        },
        "outputId": "7d1a3aa6-7e53-4335-d78e-a171b4385c50"
      },
      "execution_count": null,
      "outputs": [
        {
          "output_type": "execute_result",
          "data": {
            "text/plain": [
              "    Age  Sex  BP  Cholesterol  Na_to_K  Drug\n",
              "0  23.0    0   0            0   25.355     0\n",
              "1  47.0    1   1            0   13.093     3\n",
              "2  47.0    1   1            0   10.114     3\n",
              "3  28.0    0   2            0    7.798     4\n",
              "4  61.0    0   1            0   18.043     0"
            ],
            "text/html": [
              "\n",
              "  <div id=\"df-382def9c-9a71-4db5-adb7-978239e793ac\" class=\"colab-df-container\">\n",
              "    <div>\n",
              "<style scoped>\n",
              "    .dataframe tbody tr th:only-of-type {\n",
              "        vertical-align: middle;\n",
              "    }\n",
              "\n",
              "    .dataframe tbody tr th {\n",
              "        vertical-align: top;\n",
              "    }\n",
              "\n",
              "    .dataframe thead th {\n",
              "        text-align: right;\n",
              "    }\n",
              "</style>\n",
              "<table border=\"1\" class=\"dataframe\">\n",
              "  <thead>\n",
              "    <tr style=\"text-align: right;\">\n",
              "      <th></th>\n",
              "      <th>Age</th>\n",
              "      <th>Sex</th>\n",
              "      <th>BP</th>\n",
              "      <th>Cholesterol</th>\n",
              "      <th>Na_to_K</th>\n",
              "      <th>Drug</th>\n",
              "    </tr>\n",
              "  </thead>\n",
              "  <tbody>\n",
              "    <tr>\n",
              "      <th>0</th>\n",
              "      <td>23.0</td>\n",
              "      <td>0</td>\n",
              "      <td>0</td>\n",
              "      <td>0</td>\n",
              "      <td>25.355</td>\n",
              "      <td>0</td>\n",
              "    </tr>\n",
              "    <tr>\n",
              "      <th>1</th>\n",
              "      <td>47.0</td>\n",
              "      <td>1</td>\n",
              "      <td>1</td>\n",
              "      <td>0</td>\n",
              "      <td>13.093</td>\n",
              "      <td>3</td>\n",
              "    </tr>\n",
              "    <tr>\n",
              "      <th>2</th>\n",
              "      <td>47.0</td>\n",
              "      <td>1</td>\n",
              "      <td>1</td>\n",
              "      <td>0</td>\n",
              "      <td>10.114</td>\n",
              "      <td>3</td>\n",
              "    </tr>\n",
              "    <tr>\n",
              "      <th>3</th>\n",
              "      <td>28.0</td>\n",
              "      <td>0</td>\n",
              "      <td>2</td>\n",
              "      <td>0</td>\n",
              "      <td>7.798</td>\n",
              "      <td>4</td>\n",
              "    </tr>\n",
              "    <tr>\n",
              "      <th>4</th>\n",
              "      <td>61.0</td>\n",
              "      <td>0</td>\n",
              "      <td>1</td>\n",
              "      <td>0</td>\n",
              "      <td>18.043</td>\n",
              "      <td>0</td>\n",
              "    </tr>\n",
              "  </tbody>\n",
              "</table>\n",
              "</div>\n",
              "    <div class=\"colab-df-buttons\">\n",
              "\n",
              "  <div class=\"colab-df-container\">\n",
              "    <button class=\"colab-df-convert\" onclick=\"convertToInteractive('df-382def9c-9a71-4db5-adb7-978239e793ac')\"\n",
              "            title=\"Convert this dataframe to an interactive table.\"\n",
              "            style=\"display:none;\">\n",
              "\n",
              "  <svg xmlns=\"http://www.w3.org/2000/svg\" height=\"24px\" viewBox=\"0 -960 960 960\">\n",
              "    <path d=\"M120-120v-720h720v720H120Zm60-500h600v-160H180v160Zm220 220h160v-160H400v160Zm0 220h160v-160H400v160ZM180-400h160v-160H180v160Zm440 0h160v-160H620v160ZM180-180h160v-160H180v160Zm440 0h160v-160H620v160Z\"/>\n",
              "  </svg>\n",
              "    </button>\n",
              "\n",
              "  <style>\n",
              "    .colab-df-container {\n",
              "      display:flex;\n",
              "      gap: 12px;\n",
              "    }\n",
              "\n",
              "    .colab-df-convert {\n",
              "      background-color: #E8F0FE;\n",
              "      border: none;\n",
              "      border-radius: 50%;\n",
              "      cursor: pointer;\n",
              "      display: none;\n",
              "      fill: #1967D2;\n",
              "      height: 32px;\n",
              "      padding: 0 0 0 0;\n",
              "      width: 32px;\n",
              "    }\n",
              "\n",
              "    .colab-df-convert:hover {\n",
              "      background-color: #E2EBFA;\n",
              "      box-shadow: 0px 1px 2px rgba(60, 64, 67, 0.3), 0px 1px 3px 1px rgba(60, 64, 67, 0.15);\n",
              "      fill: #174EA6;\n",
              "    }\n",
              "\n",
              "    .colab-df-buttons div {\n",
              "      margin-bottom: 4px;\n",
              "    }\n",
              "\n",
              "    [theme=dark] .colab-df-convert {\n",
              "      background-color: #3B4455;\n",
              "      fill: #D2E3FC;\n",
              "    }\n",
              "\n",
              "    [theme=dark] .colab-df-convert:hover {\n",
              "      background-color: #434B5C;\n",
              "      box-shadow: 0px 1px 3px 1px rgba(0, 0, 0, 0.15);\n",
              "      filter: drop-shadow(0px 1px 2px rgba(0, 0, 0, 0.3));\n",
              "      fill: #FFFFFF;\n",
              "    }\n",
              "  </style>\n",
              "\n",
              "    <script>\n",
              "      const buttonEl =\n",
              "        document.querySelector('#df-382def9c-9a71-4db5-adb7-978239e793ac button.colab-df-convert');\n",
              "      buttonEl.style.display =\n",
              "        google.colab.kernel.accessAllowed ? 'block' : 'none';\n",
              "\n",
              "      async function convertToInteractive(key) {\n",
              "        const element = document.querySelector('#df-382def9c-9a71-4db5-adb7-978239e793ac');\n",
              "        const dataTable =\n",
              "          await google.colab.kernel.invokeFunction('convertToInteractive',\n",
              "                                                    [key], {});\n",
              "        if (!dataTable) return;\n",
              "\n",
              "        const docLinkHtml = 'Like what you see? Visit the ' +\n",
              "          '<a target=\"_blank\" href=https://colab.research.google.com/notebooks/data_table.ipynb>data table notebook</a>'\n",
              "          + ' to learn more about interactive tables.';\n",
              "        element.innerHTML = '';\n",
              "        dataTable['output_type'] = 'display_data';\n",
              "        await google.colab.output.renderOutput(dataTable, element);\n",
              "        const docLink = document.createElement('div');\n",
              "        docLink.innerHTML = docLinkHtml;\n",
              "        element.appendChild(docLink);\n",
              "      }\n",
              "    </script>\n",
              "  </div>\n",
              "\n",
              "\n",
              "<div id=\"df-bf4e719b-fab0-4c2a-86a3-15a5ad75a065\">\n",
              "  <button class=\"colab-df-quickchart\" onclick=\"quickchart('df-bf4e719b-fab0-4c2a-86a3-15a5ad75a065')\"\n",
              "            title=\"Suggest charts.\"\n",
              "            style=\"display:none;\">\n",
              "\n",
              "<svg xmlns=\"http://www.w3.org/2000/svg\" height=\"24px\"viewBox=\"0 0 24 24\"\n",
              "     width=\"24px\">\n",
              "    <g>\n",
              "        <path d=\"M19 3H5c-1.1 0-2 .9-2 2v14c0 1.1.9 2 2 2h14c1.1 0 2-.9 2-2V5c0-1.1-.9-2-2-2zM9 17H7v-7h2v7zm4 0h-2V7h2v10zm4 0h-2v-4h2v4z\"/>\n",
              "    </g>\n",
              "</svg>\n",
              "  </button>\n",
              "\n",
              "<style>\n",
              "  .colab-df-quickchart {\n",
              "      --bg-color: #E8F0FE;\n",
              "      --fill-color: #1967D2;\n",
              "      --hover-bg-color: #E2EBFA;\n",
              "      --hover-fill-color: #174EA6;\n",
              "      --disabled-fill-color: #AAA;\n",
              "      --disabled-bg-color: #DDD;\n",
              "  }\n",
              "\n",
              "  [theme=dark] .colab-df-quickchart {\n",
              "      --bg-color: #3B4455;\n",
              "      --fill-color: #D2E3FC;\n",
              "      --hover-bg-color: #434B5C;\n",
              "      --hover-fill-color: #FFFFFF;\n",
              "      --disabled-bg-color: #3B4455;\n",
              "      --disabled-fill-color: #666;\n",
              "  }\n",
              "\n",
              "  .colab-df-quickchart {\n",
              "    background-color: var(--bg-color);\n",
              "    border: none;\n",
              "    border-radius: 50%;\n",
              "    cursor: pointer;\n",
              "    display: none;\n",
              "    fill: var(--fill-color);\n",
              "    height: 32px;\n",
              "    padding: 0;\n",
              "    width: 32px;\n",
              "  }\n",
              "\n",
              "  .colab-df-quickchart:hover {\n",
              "    background-color: var(--hover-bg-color);\n",
              "    box-shadow: 0 1px 2px rgba(60, 64, 67, 0.3), 0 1px 3px 1px rgba(60, 64, 67, 0.15);\n",
              "    fill: var(--button-hover-fill-color);\n",
              "  }\n",
              "\n",
              "  .colab-df-quickchart-complete:disabled,\n",
              "  .colab-df-quickchart-complete:disabled:hover {\n",
              "    background-color: var(--disabled-bg-color);\n",
              "    fill: var(--disabled-fill-color);\n",
              "    box-shadow: none;\n",
              "  }\n",
              "\n",
              "  .colab-df-spinner {\n",
              "    border: 2px solid var(--fill-color);\n",
              "    border-color: transparent;\n",
              "    border-bottom-color: var(--fill-color);\n",
              "    animation:\n",
              "      spin 1s steps(1) infinite;\n",
              "  }\n",
              "\n",
              "  @keyframes spin {\n",
              "    0% {\n",
              "      border-color: transparent;\n",
              "      border-bottom-color: var(--fill-color);\n",
              "      border-left-color: var(--fill-color);\n",
              "    }\n",
              "    20% {\n",
              "      border-color: transparent;\n",
              "      border-left-color: var(--fill-color);\n",
              "      border-top-color: var(--fill-color);\n",
              "    }\n",
              "    30% {\n",
              "      border-color: transparent;\n",
              "      border-left-color: var(--fill-color);\n",
              "      border-top-color: var(--fill-color);\n",
              "      border-right-color: var(--fill-color);\n",
              "    }\n",
              "    40% {\n",
              "      border-color: transparent;\n",
              "      border-right-color: var(--fill-color);\n",
              "      border-top-color: var(--fill-color);\n",
              "    }\n",
              "    60% {\n",
              "      border-color: transparent;\n",
              "      border-right-color: var(--fill-color);\n",
              "    }\n",
              "    80% {\n",
              "      border-color: transparent;\n",
              "      border-right-color: var(--fill-color);\n",
              "      border-bottom-color: var(--fill-color);\n",
              "    }\n",
              "    90% {\n",
              "      border-color: transparent;\n",
              "      border-bottom-color: var(--fill-color);\n",
              "    }\n",
              "  }\n",
              "</style>\n",
              "\n",
              "  <script>\n",
              "    async function quickchart(key) {\n",
              "      const quickchartButtonEl =\n",
              "        document.querySelector('#' + key + ' button');\n",
              "      quickchartButtonEl.disabled = true;  // To prevent multiple clicks.\n",
              "      quickchartButtonEl.classList.add('colab-df-spinner');\n",
              "      try {\n",
              "        const charts = await google.colab.kernel.invokeFunction(\n",
              "            'suggestCharts', [key], {});\n",
              "      } catch (error) {\n",
              "        console.error('Error during call to suggestCharts:', error);\n",
              "      }\n",
              "      quickchartButtonEl.classList.remove('colab-df-spinner');\n",
              "      quickchartButtonEl.classList.add('colab-df-quickchart-complete');\n",
              "    }\n",
              "    (() => {\n",
              "      let quickchartButtonEl =\n",
              "        document.querySelector('#df-bf4e719b-fab0-4c2a-86a3-15a5ad75a065 button');\n",
              "      quickchartButtonEl.style.display =\n",
              "        google.colab.kernel.accessAllowed ? 'block' : 'none';\n",
              "    })();\n",
              "  </script>\n",
              "</div>\n",
              "    </div>\n",
              "  </div>\n"
            ]
          },
          "metadata": {},
          "execution_count": 114
        }
      ]
    },
    {
      "cell_type": "code",
      "source": [
        "# from sklearn.preprocessing import OneHotEncoder\n",
        "\n",
        "# ## Initialize OneHotEncoder and specify that we want a dense output\n",
        "# encoder = OneHotEncoder(sparse=False)\n",
        "\n",
        "# # Fit and transform the categorical columns\n",
        "# encoded_features_sklearn = encoder.fit_transform(data[['Sex', 'BP', 'Cholesterol']])\n",
        "\n",
        "# # Get feature names after one-hot encoding\n",
        "# encoded_feature_names_sklearn = encoder.get_feature_names_out(['Sex', 'BP', 'Cholesterol'])\n",
        "\n",
        "# # Convert the encoded features to a DataFrame\n",
        "# encoded_df_sklearn = pd.DataFrame(encoded_features_sklearn, columns=encoded_feature_names_sklearn)\n",
        "\n",
        "# # Drop the original categorical columns and concatenate the encoded DataFrame\n",
        "# data_onehot_encoded_sklearn = pd.concat([data.drop(['Sex', 'BP', 'Cholesterol'], axis=1), encoded_df_sklearn], axis=1)\n",
        "\n",
        "# data_onehot_encoded_sklearn.head()\n",
        "# data=data_onehot_encoded_sklearn\n",
        "# data"
      ],
      "metadata": {
        "id": "m53oysivpmdB"
      },
      "execution_count": null,
      "outputs": []
    },
    {
      "cell_type": "code",
      "source": [
        "data.to_csv(\"/content/drive/MyDrive/الورشة/Clean_data\",index=False)"
      ],
      "metadata": {
        "id": "dF_QOGFF9DTw"
      },
      "execution_count": null,
      "outputs": []
    },
    {
      "cell_type": "code",
      "source": [
        "data = pd.read_csv('/content/drive/MyDrive/الورشة/Clean_data')\n"
      ],
      "metadata": {
        "id": "Es9f7jnrvRjx"
      },
      "execution_count": null,
      "outputs": []
    },
    {
      "cell_type": "code",
      "source": [
        "# specific_columns =  list(df.columns)\n",
        "# # specific_columns.append('fsr_tripFual')\n",
        "# # Create a subset DataFrame with the specific columns\n",
        "# subset_data = df[specific_columns]\n",
        "# print(specific_columns)\n",
        "import matplotlib.pyplot as plt\n",
        "import seaborn as sns\n",
        "\n",
        "# Calculate correlation matrix for the specific columns\n",
        "corr_matrix = data.corr()\n",
        "print(corr_matrix)\n",
        "# Create a figure and set its size\n",
        "plt.figure(figsize=(20, 20))\n",
        "\n",
        "# Plot the correlation heatmap for the specific columns\n",
        "sns.heatmap(corr_matrix, annot=True, cmap=\"coolwarm\", center=0)\n",
        "\n",
        "# Show the plot\n",
        "plt.title('Correlation Heatmap for Specific Columns')\n",
        "plt.show()\n"
      ],
      "metadata": {
        "colab": {
          "base_uri": "https://localhost:8080/",
          "height": 1000
        },
        "id": "qSlmjCNwN_bJ",
        "outputId": "07831af8-cd21-49ee-a19f-7695d7b42c37"
      },
      "execution_count": null,
      "outputs": [
        {
          "output_type": "stream",
          "name": "stdout",
          "text": [
            "                  Age       Sex        BP  Cholesterol   Na_to_K      Drug\n",
            "Age          1.000000  0.102027  0.054212    -0.068234 -0.063119  0.041856\n",
            "Sex          0.102027  1.000000 -0.007814    -0.008811 -0.125008  0.018239\n",
            "BP           0.054212 -0.007814  1.000000    -0.137552 -0.149312  0.419397\n",
            "Cholesterol -0.068234 -0.008811 -0.137552     1.000000  0.010000  0.048415\n",
            "Na_to_K     -0.063119 -0.125008 -0.149312     0.010000  1.000000 -0.689051\n",
            "Drug         0.041856  0.018239  0.419397     0.048415 -0.689051  1.000000\n"
          ]
        },
        {
          "output_type": "display_data",
          "data": {
            "text/plain": [
              "<Figure size 2000x2000 with 2 Axes>"
            ],
            "image/png": "[encoded data removed]"
          },
          "metadata": {}
        }
      ]
    },
    {
      "cell_type": "markdown",
      "source": [
        "### تقسيم البيانات"
      ],
      "metadata": {
        "id": "zUefsULJubuS"
      }
    },
    {
      "cell_type": "code",
      "source": [
        "\n",
        "# Splitting the data into training and test sets (80% train, 20% test)\n",
        "X = data.drop('Drug', axis=1)\n",
        "y = data['Drug']\n",
        "X_train, X_test, y_train, y_test = train_test_split(X, y, test_size=0.2, random_state=42)\n"
      ],
      "metadata": {
        "id": "7sy1TO8Jufzp"
      },
      "execution_count": null,
      "outputs": []
    },
    {
      "cell_type": "markdown",
      "source": [
        "### تدريب الداتا"
      ],
      "metadata": {
        "id": "iiPkveASOvki"
      }
    },
    {
      "cell_type": "code",
      "source": [
        "# Logistic Regression Classifier\n",
        "train = LogisticRegression(max_iter=50, random_state=42)\n",
        "train.fit(X_train, y_train)\n",
        "y_pred = train.predict(X_test)"
      ],
      "metadata": {
        "colab": {
          "base_uri": "https://localhost:8080/"
        },
        "id": "59EEDxTY5I32",
        "outputId": "af75db81-21a3-4e44-a245-59f96dfba136"
      },
      "execution_count": null,
      "outputs": [
        {
          "output_type": "stream",
          "name": "stderr",
          "text": [
            "/usr/local/lib/python3.10/dist-packages/sklearn/linear_model/_logistic.py:458: ConvergenceWarning: lbfgs failed to converge (status=1):\n",
            "STOP: TOTAL NO. of ITERATIONS REACHED LIMIT.\n",
            "\n",
            "Increase the number of iterations (max_iter) or scale the data as shown in:\n",
            "    https://scikit-learn.org/stable/modules/preprocessing.html\n",
            "Please also refer to the documentation for alternative solver options:\n",
            "    https://scikit-learn.org/stable/modules/linear_model.html#logistic-regression\n",
            "  n_iter_i = _check_optimize_result(\n"
          ]
        }
      ]
    },
    {
      "cell_type": "code",
      "source": [],
      "metadata": {
        "id": "D1TsdcSh1Z9b"
      },
      "execution_count": null,
      "outputs": []
    },
    {
      "cell_type": "markdown",
      "source": [
        "### تقييم المودل"
      ],
      "metadata": {
        "id": "MT243uTSO066"
      }
    },
    {
      "cell_type": "code",
      "source": [
        "# 5. Evaluate Model Performance\n",
        "accuracy = accuracy_score(y_test, y_pred)\n",
        "print(\"The accuarcy is : \",accuracy)"
      ],
      "metadata": {
        "colab": {
          "base_uri": "https://localhost:8080/"
        },
        "id": "QrceLLux4BoJ",
        "outputId": "11729e49-8c32-4292-858a-c712042c3d9f"
      },
      "execution_count": null,
      "outputs": [
        {
          "output_type": "stream",
          "name": "stdout",
          "text": [
            "The accuarcy is :  0.675\n"
          ]
        }
      ]
    },
    {
      "cell_type": "code",
      "source": [
        "# Making the Confusion Matrix\n",
        "from sklearn.metrics import confusion_matrix\n",
        "cm = confusion_matrix(y_test, y_pred)\n",
        "print(cm)"
      ],
      "metadata": {
        "colab": {
          "base_uri": "https://localhost:8080/"
        },
        "id": "KAvQcHc_9h3A",
        "outputId": "30090c11-8f74-4e84-c522-1b73a7e33df6"
      },
      "execution_count": null,
      "outputs": [
        {
          "output_type": "stream",
          "name": "stdout",
          "text": [
            "[[15  0  0  0  0]\n",
            " [ 4  1  1  0  0]\n",
            " [ 0  0  3  0  0]\n",
            " [ 2  0  1  0  2]\n",
            " [ 2  0  1  0  8]]\n"
          ]
        }
      ]
    },
    {
      "cell_type": "code",
      "source": [
        "plt.figure(figsize=(9,9))\n",
        "sns.heatmap(cm, annot=True, fmt=\".3f\", linewidths=.5, square = True, cmap = 'Blues_r');\n",
        "plt.ylabel('Actual label');\n",
        "plt.xlabel('Predicted label');\n",
        "all_sample_title = 'Accuracy Score'\n",
        "plt.title(all_sample_title, size = 15);"
      ],
      "metadata": {
        "colab": {
          "base_uri": "https://localhost:8080/",
          "height": 738
        },
        "id": "mrDnoIr-JspQ",
        "outputId": "d4a26b97-3d77-4278-b6a5-eaa2846e1661"
      },
      "execution_count": null,
      "outputs": [
        {
          "output_type": "display_data",
          "data": {
            "text/plain": [
              "<Figure size 900x900 with 2 Axes>"
            ],
            "image/png": "[encoded data removed]"
          },
          "metadata": {}
        }
      ]
    },
    {
      "cell_type": "markdown",
      "source": [
        "### تحسين المودل"
      ],
      "metadata": {
        "id": "8IiAPZkTO4ji"
      }
    },
    {
      "cell_type": "code",
      "source": [
        "# Logistic Regression Classifier\n",
        "train = LogisticRegression(max_iter=300, random_state=42)\n",
        "train.fit(X_train, y_train)\n",
        "y_pred = train.predict(X_test)\n",
        "y_pred"
      ],
      "metadata": {
        "colab": {
          "base_uri": "https://localhost:8080/"
        },
        "id": "4yHYBTwmKD3f",
        "outputId": "87350400-4879-410b-f1f1-32eed58ef12f"
      },
      "execution_count": null,
      "outputs": [
        {
          "output_type": "stream",
          "name": "stderr",
          "text": [
            "/usr/local/lib/python3.10/dist-packages/sklearn/linear_model/_logistic.py:458: ConvergenceWarning: lbfgs failed to converge (status=1):\n",
            "STOP: TOTAL NO. of ITERATIONS REACHED LIMIT.\n",
            "\n",
            "Increase the number of iterations (max_iter) or scale the data as shown in:\n",
            "    https://scikit-learn.org/stable/modules/preprocessing.html\n",
            "Please also refer to the documentation for alternative solver options:\n",
            "    https://scikit-learn.org/stable/modules/linear_model.html#logistic-regression\n",
            "  n_iter_i = _check_optimize_result(\n"
          ]
        },
        {
          "output_type": "execute_result",
          "data": {
            "text/plain": [
              "array([4, 0, 4, 4, 0, 0, 0, 4, 1, 4, 1, 4, 0, 1, 2, 0, 2, 4, 4, 0, 2, 4,\n",
              "       4, 0, 0, 0, 4, 4, 0, 4, 0, 3, 0, 0, 1, 0, 4, 1, 0, 1])"
            ]
          },
          "metadata": {},
          "execution_count": 138
        }
      ]
    },
    {
      "cell_type": "markdown",
      "source": [
        "### تقييم المودل بعد التحسين"
      ],
      "metadata": {
        "id": "rFPigcbzO7_z"
      }
    },
    {
      "cell_type": "code",
      "source": [],
      "metadata": {
        "id": "KVM8b0jK4QmS"
      },
      "execution_count": null,
      "outputs": []
    },
    {
      "cell_type": "code",
      "source": [
        "# 5. Evaluate Model Performance\n",
        "accuracy = accuracy_score(y_test, y_pred)\n",
        "print(\"The accuarcy is : \",accuracy)"
      ],
      "metadata": {
        "colab": {
          "base_uri": "https://localhost:8080/"
        },
        "id": "_QN5OGrgKIKu",
        "outputId": "f67ee83c-8b06-40a5-96e2-81079df48cb1"
      },
      "execution_count": null,
      "outputs": [
        {
          "output_type": "stream",
          "name": "stdout",
          "text": [
            "The accuarcy is :  0.91\n"
          ]
        }
      ]
    },
    {
      "cell_type": "code",
      "source": [
        "# Making the Confusion Matrix\n",
        "from sklearn.metrics import confusion_matrix\n",
        "cm = confusion_matrix(y_test, y_pred)\n",
        "print(cm)"
      ],
      "metadata": {
        "colab": {
          "base_uri": "https://localhost:8080/"
        },
        "id": "gFGluyYaKNOu",
        "outputId": "df189149-047c-4f2c-f061-0ece58e07e63"
      },
      "execution_count": null,
      "outputs": [
        {
          "output_type": "stream",
          "name": "stdout",
          "text": [
            "[[15  0  0  0  0]\n",
            " [ 0  6  0  0  0]\n",
            " [ 0  0  3  0  0]\n",
            " [ 1  0  0  1  3]\n",
            " [ 0  0  0  0 11]]\n"
          ]
        }
      ]
    },
    {
      "cell_type": "code",
      "source": [
        "plt.figure(figsize=(9,9))\n",
        "sns.heatmap(cm, annot=True, fmt=\".3f\", linewidths=.5, square = True, cmap = 'Blues_r');\n",
        "plt.ylabel('Actual label');\n",
        "plt.xlabel('Predicted label');\n",
        "all_sample_title = 'Accuracy Score'\n",
        "plt.title(all_sample_title, size = 15);"
      ],
      "metadata": {
        "colab": {
          "base_uri": "https://localhost:8080/",
          "height": 738
        },
        "id": "PKK5t9_mKON6",
        "outputId": "89b2eb75-eb9d-4c8e-d6ec-d57e9d67b4a3"
      },
      "execution_count": null,
      "outputs": [
        {
          "output_type": "display_data",
          "data": {
            "text/plain": [
              "<Figure size 900x900 with 2 Axes>"
            ],
            "image/png": "[encoded data removed]"
          },
          "metadata": {}
        }
      ]
    },
    {
      "cell_type": "markdown",
      "source": [
        "### حفظ المودل"
      ],
      "metadata": {
        "id": "n0W2bl4bO_-D"
      }
    },
    {
      "cell_type": "code",
      "source": [
        "#"
      ],
      "metadata": {
        "id": "JDuaamV1uPMz"
      },
      "execution_count": null,
      "outputs": []
    },
    {
      "cell_type": "code",
      "source": [
        "data"
      ],
      "metadata": {
        "colab": {
          "base_uri": "https://localhost:8080/",
          "height": 424
        },
        "id": "_bIOE3uIu_3L",
        "outputId": "fc735443-a725-4796-956c-f390dd8345af"
      },
      "execution_count": null,
      "outputs": [
        {
          "output_type": "execute_result",
          "data": {
            "text/plain": [
              "      Age  Sex  BP  Cholesterol  Na_to_K  Drug\n",
              "0    23.0    0   0            0   25.355     0\n",
              "1    47.0    1   1            0   13.093     3\n",
              "2    47.0    1   1            0   10.114     3\n",
              "3    28.0    0   2            0    7.798     4\n",
              "4    61.0    0   1            0   18.043     0\n",
              "..    ...  ...  ..          ...      ...   ...\n",
              "195  56.0    0   1            0   11.567     3\n",
              "196  16.0    1   1            0   12.006     3\n",
              "197  52.0    1   2            0    9.894     4\n",
              "198  23.0    1   2            1   14.020     4\n",
              "199  40.0    0   1            1   11.349     4\n",
              "\n",
              "[200 rows x 6 columns]"
            ],
            "text/html": [
              "\n",
              "  <div id=\"df-02913ebc-5fa1-48b3-b7ca-077cedbdd971\" class=\"colab-df-container\">\n",
              "    <div>\n",
              "<style scoped>\n",
              "    .dataframe tbody tr th:only-of-type {\n",
              "        vertical-align: middle;\n",
              "    }\n",
              "\n",
              "    .dataframe tbody tr th {\n",
              "        vertical-align: top;\n",
              "    }\n",
              "\n",
              "    .dataframe thead th {\n",
              "        text-align: right;\n",
              "    }\n",
              "</style>\n",
              "<table border=\"1\" class=\"dataframe\">\n",
              "  <thead>\n",
              "    <tr style=\"text-align: right;\">\n",
              "      <th></th>\n",
              "      <th>Age</th>\n",
              "      <th>Sex</th>\n",
              "      <th>BP</th>\n",
              "      <th>Cholesterol</th>\n",
              "      <th>Na_to_K</th>\n",
              "      <th>Drug</th>\n",
              "    </tr>\n",
              "  </thead>\n",
              "  <tbody>\n",
              "    <tr>\n",
              "      <th>0</th>\n",
              "      <td>23.0</td>\n",
              "      <td>0</td>\n",
              "      <td>0</td>\n",
              "      <td>0</td>\n",
              "      <td>25.355</td>\n",
              "      <td>0</td>\n",
              "    </tr>\n",
              "    <tr>\n",
              "      <th>1</th>\n",
              "      <td>47.0</td>\n",
              "      <td>1</td>\n",
              "      <td>1</td>\n",
              "      <td>0</td>\n",
              "      <td>13.093</td>\n",
              "      <td>3</td>\n",
              "    </tr>\n",
              "    <tr>\n",
              "      <th>2</th>\n",
              "      <td>47.0</td>\n",
              "      <td>1</td>\n",
              "      <td>1</td>\n",
              "      <td>0</td>\n",
              "      <td>10.114</td>\n",
              "      <td>3</td>\n",
              "    </tr>\n",
              "    <tr>\n",
              "      <th>3</th>\n",
              "      <td>28.0</td>\n",
              "      <td>0</td>\n",
              "      <td>2</td>\n",
              "      <td>0</td>\n",
              "      <td>7.798</td>\n",
              "      <td>4</td>\n",
              "    </tr>\n",
              "    <tr>\n",
              "      <th>4</th>\n",
              "      <td>61.0</td>\n",
              "      <td>0</td>\n",
              "      <td>1</td>\n",
              "      <td>0</td>\n",
              "      <td>18.043</td>\n",
              "      <td>0</td>\n",
              "    </tr>\n",
              "    <tr>\n",
              "      <th>...</th>\n",
              "      <td>...</td>\n",
              "      <td>...</td>\n",
              "      <td>...</td>\n",
              "      <td>...</td>\n",
              "      <td>...</td>\n",
              "      <td>...</td>\n",
              "    </tr>\n",
              "    <tr>\n",
              "      <th>195</th>\n",
              "      <td>56.0</td>\n",
              "      <td>0</td>\n",
              "      <td>1</td>\n",
              "      <td>0</td>\n",
              "      <td>11.567</td>\n",
              "      <td>3</td>\n",
              "    </tr>\n",
              "    <tr>\n",
              "      <th>196</th>\n",
              "      <td>16.0</td>\n",
              "      <td>1</td>\n",
              "      <td>1</td>\n",
              "      <td>0</td>\n",
              "      <td>12.006</td>\n",
              "      <td>3</td>\n",
              "    </tr>\n",
              "    <tr>\n",
              "      <th>197</th>\n",
              "      <td>52.0</td>\n",
              "      <td>1</td>\n",
              "      <td>2</td>\n",
              "      <td>0</td>\n",
              "      <td>9.894</td>\n",
              "      <td>4</td>\n",
              "    </tr>\n",
              "    <tr>\n",
              "      <th>198</th>\n",
              "      <td>23.0</td>\n",
              "      <td>1</td>\n",
              "      <td>2</td>\n",
              "      <td>1</td>\n",
              "      <td>14.020</td>\n",
              "      <td>4</td>\n",
              "    </tr>\n",
              "    <tr>\n",
              "      <th>199</th>\n",
              "      <td>40.0</td>\n",
              "      <td>0</td>\n",
              "      <td>1</td>\n",
              "      <td>1</td>\n",
              "      <td>11.349</td>\n",
              "      <td>4</td>\n",
              "    </tr>\n",
              "  </tbody>\n",
              "</table>\n",
              "<p>200 rows × 6 columns</p>\n",
              "</div>\n",
              "    <div class=\"colab-df-buttons\">\n",
              "\n",
              "  <div class=\"colab-df-container\">\n",
              "    <button class=\"colab-df-convert\" onclick=\"convertToInteractive('df-02913ebc-5fa1-48b3-b7ca-077cedbdd971')\"\n",
              "            title=\"Convert this dataframe to an interactive table.\"\n",
              "            style=\"display:none;\">\n",
              "\n",
              "  <svg xmlns=\"http://www.w3.org/2000/svg\" height=\"24px\" viewBox=\"0 -960 960 960\">\n",
              "    <path d=\"M120-120v-720h720v720H120Zm60-500h600v-160H180v160Zm220 220h160v-160H400v160Zm0 220h160v-160H400v160ZM180-400h160v-160H180v160Zm440 0h160v-160H620v160ZM180-180h160v-160H180v160Zm440 0h160v-160H620v160Z\"/>\n",
              "  </svg>\n",
              "    </button>\n",
              "\n",
              "  <style>\n",
              "    .colab-df-container {\n",
              "      display:flex;\n",
              "      gap: 12px;\n",
              "    }\n",
              "\n",
              "    .colab-df-convert {\n",
              "      background-color: #E8F0FE;\n",
              "      border: none;\n",
              "      border-radius: 50%;\n",
              "      cursor: pointer;\n",
              "      display: none;\n",
              "      fill: #1967D2;\n",
              "      height: 32px;\n",
              "      padding: 0 0 0 0;\n",
              "      width: 32px;\n",
              "    }\n",
              "\n",
              "    .colab-df-convert:hover {\n",
              "      background-color: #E2EBFA;\n",
              "      box-shadow: 0px 1px 2px rgba(60, 64, 67, 0.3), 0px 1px 3px 1px rgba(60, 64, 67, 0.15);\n",
              "      fill: #174EA6;\n",
              "    }\n",
              "\n",
              "    .colab-df-buttons div {\n",
              "      margin-bottom: 4px;\n",
              "    }\n",
              "\n",
              "    [theme=dark] .colab-df-convert {\n",
              "      background-color: #3B4455;\n",
              "      fill: #D2E3FC;\n",
              "    }\n",
              "\n",
              "    [theme=dark] .colab-df-convert:hover {\n",
              "      background-color: #434B5C;\n",
              "      box-shadow: 0px 1px 3px 1px rgba(0, 0, 0, 0.15);\n",
              "      filter: drop-shadow(0px 1px 2px rgba(0, 0, 0, 0.3));\n",
              "      fill: #FFFFFF;\n",
              "    }\n",
              "  </style>\n",
              "\n",
              "    <script>\n",
              "      const buttonEl =\n",
              "        document.querySelector('#df-02913ebc-5fa1-48b3-b7ca-077cedbdd971 button.colab-df-convert');\n",
              "      buttonEl.style.display =\n",
              "        google.colab.kernel.accessAllowed ? 'block' : 'none';\n",
              "\n",
              "      async function convertToInteractive(key) {\n",
              "        const element = document.querySelector('#df-02913ebc-5fa1-48b3-b7ca-077cedbdd971');\n",
              "        const dataTable =\n",
              "          await google.colab.kernel.invokeFunction('convertToInteractive',\n",
              "                                                    [key], {});\n",
              "        if (!dataTable) return;\n",
              "\n",
              "        const docLinkHtml = 'Like what you see? Visit the ' +\n",
              "          '<a target=\"_blank\" href=https://colab.research.google.com/notebooks/data_table.ipynb>data table notebook</a>'\n",
              "          + ' to learn more about interactive tables.';\n",
              "        element.innerHTML = '';\n",
              "        dataTable['output_type'] = 'display_data';\n",
              "        await google.colab.output.renderOutput(dataTable, element);\n",
              "        const docLink = document.createElement('div');\n",
              "        docLink.innerHTML = docLinkHtml;\n",
              "        element.appendChild(docLink);\n",
              "      }\n",
              "    </script>\n",
              "  </div>\n",
              "\n",
              "\n",
              "<div id=\"df-023e055c-4bd7-4a58-9ce8-17e02cb6a28f\">\n",
              "  <button class=\"colab-df-quickchart\" onclick=\"quickchart('df-023e055c-4bd7-4a58-9ce8-17e02cb6a28f')\"\n",
              "            title=\"Suggest charts.\"\n",
              "            style=\"display:none;\">\n",
              "\n",
              "<svg xmlns=\"http://www.w3.org/2000/svg\" height=\"24px\"viewBox=\"0 0 24 24\"\n",
              "     width=\"24px\">\n",
              "    <g>\n",
              "        <path d=\"M19 3H5c-1.1 0-2 .9-2 2v14c0 1.1.9 2 2 2h14c1.1 0 2-.9 2-2V5c0-1.1-.9-2-2-2zM9 17H7v-7h2v7zm4 0h-2V7h2v10zm4 0h-2v-4h2v4z\"/>\n",
              "    </g>\n",
              "</svg>\n",
              "  </button>\n",
              "\n",
              "<style>\n",
              "  .colab-df-quickchart {\n",
              "      --bg-color: #E8F0FE;\n",
              "      --fill-color: #1967D2;\n",
              "      --hover-bg-color: #E2EBFA;\n",
              "      --hover-fill-color: #174EA6;\n",
              "      --disabled-fill-color: #AAA;\n",
              "      --disabled-bg-color: #DDD;\n",
              "  }\n",
              "\n",
              "  [theme=dark] .colab-df-quickchart {\n",
              "      --bg-color: #3B4455;\n",
              "      --fill-color: #D2E3FC;\n",
              "      --hover-bg-color: #434B5C;\n",
              "      --hover-fill-color: #FFFFFF;\n",
              "      --disabled-bg-color: #3B4455;\n",
              "      --disabled-fill-color: #666;\n",
              "  }\n",
              "\n",
              "  .colab-df-quickchart {\n",
              "    background-color: var(--bg-color);\n",
              "    border: none;\n",
              "    border-radius: 50%;\n",
              "    cursor: pointer;\n",
              "    display: none;\n",
              "    fill: var(--fill-color);\n",
              "    height: 32px;\n",
              "    padding: 0;\n",
              "    width: 32px;\n",
              "  }\n",
              "\n",
              "  .colab-df-quickchart:hover {\n",
              "    background-color: var(--hover-bg-color);\n",
              "    box-shadow: 0 1px 2px rgba(60, 64, 67, 0.3), 0 1px 3px 1px rgba(60, 64, 67, 0.15);\n",
              "    fill: var(--button-hover-fill-color);\n",
              "  }\n",
              "\n",
              "  .colab-df-quickchart-complete:disabled,\n",
              "  .colab-df-quickchart-complete:disabled:hover {\n",
              "    background-color: var(--disabled-bg-color);\n",
              "    fill: var(--disabled-fill-color);\n",
              "    box-shadow: none;\n",
              "  }\n",
              "\n",
              "  .colab-df-spinner {\n",
              "    border: 2px solid var(--fill-color);\n",
              "    border-color: transparent;\n",
              "    border-bottom-color: var(--fill-color);\n",
              "    animation:\n",
              "      spin 1s steps(1) infinite;\n",
              "  }\n",
              "\n",
              "  @keyframes spin {\n",
              "    0% {\n",
              "      border-color: transparent;\n",
              "      border-bottom-color: var(--fill-color);\n",
              "      border-left-color: var(--fill-color);\n",
              "    }\n",
              "    20% {\n",
              "      border-color: transparent;\n",
              "      border-left-color: var(--fill-color);\n",
              "      border-top-color: var(--fill-color);\n",
              "    }\n",
              "    30% {\n",
              "      border-color: transparent;\n",
              "      border-left-color: var(--fill-color);\n",
              "      border-top-color: var(--fill-color);\n",
              "      border-right-color: var(--fill-color);\n",
              "    }\n",
              "    40% {\n",
              "      border-color: transparent;\n",
              "      border-right-color: var(--fill-color);\n",
              "      border-top-color: var(--fill-color);\n",
              "    }\n",
              "    60% {\n",
              "      border-color: transparent;\n",
              "      border-right-color: var(--fill-color);\n",
              "    }\n",
              "    80% {\n",
              "      border-color: transparent;\n",
              "      border-right-color: var(--fill-color);\n",
              "      border-bottom-color: var(--fill-color);\n",
              "    }\n",
              "    90% {\n",
              "      border-color: transparent;\n",
              "      border-bottom-color: var(--fill-color);\n",
              "    }\n",
              "  }\n",
              "</style>\n",
              "\n",
              "  <script>\n",
              "    async function quickchart(key) {\n",
              "      const quickchartButtonEl =\n",
              "        document.querySelector('#' + key + ' button');\n",
              "      quickchartButtonEl.disabled = true;  // To prevent multiple clicks.\n",
              "      quickchartButtonEl.classList.add('colab-df-spinner');\n",
              "      try {\n",
              "        const charts = await google.colab.kernel.invokeFunction(\n",
              "            'suggestCharts', [key], {});\n",
              "      } catch (error) {\n",
              "        console.error('Error during call to suggestCharts:', error);\n",
              "      }\n",
              "      quickchartButtonEl.classList.remove('colab-df-spinner');\n",
              "      quickchartButtonEl.classList.add('colab-df-quickchart-complete');\n",
              "    }\n",
              "    (() => {\n",
              "      let quickchartButtonEl =\n",
              "        document.querySelector('#df-023e055c-4bd7-4a58-9ce8-17e02cb6a28f button');\n",
              "      quickchartButtonEl.style.display =\n",
              "        google.colab.kernel.accessAllowed ? 'block' : 'none';\n",
              "    })();\n",
              "  </script>\n",
              "</div>\n",
              "    </div>\n",
              "  </div>\n"
            ]
          },
          "metadata": {},
          "execution_count": 129
        }
      ]
    },
    {
      "cell_type": "code",
      "source": [
        "import joblib\n",
        "model_filename = '/content/drive/MyDrive/الورشة/model_of _data.joblib'\n",
        "joblib.dump(train, model_filename)\n",
        "print(f\"Model saved as {model_filename}\")"
      ],
      "metadata": {
        "colab": {
          "base_uri": "https://localhost:8080/"
        },
        "id": "b6dENuKZLAnu",
        "outputId": "b8f24596-b1d0-47e3-dd54-36983af34998"
      },
      "execution_count": null,
      "outputs": [
        {
          "output_type": "stream",
          "name": "stdout",
          "text": [
            "Model saved as /content/drive/MyDrive/الورشة/model_of _data.joblib\n"
          ]
        }
      ]
    },
    {
      "cell_type": "markdown",
      "source": [
        "### اختبار المودل"
      ],
      "metadata": {
        "id": "0xwt33JUPDcb"
      }
    },
    {
      "cell_type": "code",
      "source": [
        "# Load the saved model\n",
        "import joblib\n",
        "model_data = joblib.load(model_filename)\n"
      ],
      "metadata": {
        "id": "8SwOvxpELUVH"
      },
      "execution_count": null,
      "outputs": []
    },
    {
      "cell_type": "code",
      "source": [
        "    test = model_data.predict(X_test.head(1))\n",
        "    test\n"
      ],
      "metadata": {
        "colab": {
          "base_uri": "https://localhost:8080/"
        },
        "id": "de__6QBVLgYC",
        "outputId": "f814e176-aba4-4038-cdda-d808a5dd5e52"
      },
      "execution_count": null,
      "outputs": [
        {
          "output_type": "execute_result",
          "data": {
            "text/plain": [
              "array(['drugX'], dtype=object)"
            ]
          },
          "metadata": {},
          "execution_count": 276
        }
      ]
    },
    {
      "cell_type": "markdown",
      "source": [
        "\n",
        "## الانحدار اللوجستي\n",
        "هو خوارزمية تعلم آلي مشرف تُستخدم بشكل رئيسي لمهام التصنيف حيث الهدف هو التنبؤ باحتمالية أن ينتمي مثيل إلى فئة معينة أم لا. يعتبر نوعًا من الخوارزميات الإحصائية التي تحلل العلاقة بين مجموعة من المتغيرات المستقلة والمتغيرات الثنائية المعتمدة. وهو أداة قوية لاتخاذ القرار، مثل تصنيف البريد الإلكتروني كبريد غير مرغوب أو لا.\n",
        "\n",
        "في الانحدار اللوجستي، بدلاً من ملاءمة خط انحدار، نقوم بملاءمة وظيفة شكل \"S\"، التي تتنبأ بقيمتين كحد أقصى (0 أو 1). يدل الانحناء الناتج عن الوظيفة اللوجستية على احتمالية حدوث شيء، مثل ما إذا كانت الخلايا سرطانية أم لا، أو ما إذا كان الفأر يعاني من السمنة من خلال وزنه، وما إلى ذلك.\n",
        "\n",
        "وتُستخدم الوظيفة اللوجستية (أو الوظيفة السيجمويدية) لرسم القيم المتوقعة إلى احتمالات. يُستخدم مفهوم القيمة الحرجة في الانحدار اللوجستي، الذي يحدد احتمالية الصفر أو الواحد.\n",
        "\n",
        "يُمكن تصنيف الانحدار اللوجستي إلى ثلاثة أنواع بناءً على الفئات: الثنائي (مثل النجاح أو الفشل)، والمتعدد (مثل \"القط\"، \"الكلب\"، \"الخروف\")، والترتيبي (مثل \"منخفض\"، \"متوسط\"، \"عالي\")."
      ],
      "metadata": {
        "id": "WHHzdoxAdDWu"
      }
    },
    {
      "cell_type": "code",
      "source": [
        "# Logistic Regression\n",
        "\n",
        "# Importing the libraries\n",
        "import numpy as np\n",
        "import matplotlib.pyplot as plt\n",
        "import pandas as pd\n",
        "import seaborn as sns"
      ],
      "metadata": {
        "id": "clxICh2ngIkT"
      },
      "execution_count": null,
      "outputs": []
    },
    {
      "cell_type": "code",
      "source": [
        "\n",
        "# Importing the dataset\n",
        "dataset = pd.read_csv('/content/drive/MyDrive/الورشة/Social_Network_Ads.csv')\n",
        "X = dataset.iloc[:, [2, 3]].values\n",
        "y = dataset.iloc[:, 4].values\n",
        "# dataset = pd.read_csv(\"/content/drive/MyDrive/الورشة/Clean_data\")\n",
        "\n",
        "# # Splitting the data into training and test sets (80% train, 20% test)\n",
        "# X = data_encoded.drop('Drug', axis=1)\n",
        "# y = data_encoded['Drug']\n",
        "# X_train, X_test, y_train, y_test = train_test_split(X, y, test_size=0.2, random_state=42)"
      ],
      "metadata": {
        "id": "T8Jz4IN3gKwC"
      },
      "execution_count": null,
      "outputs": []
    },
    {
      "cell_type": "code",
      "source": [
        "# Splitting the dataset into the Training set and Test set\n",
        "from sklearn.model_selection import train_test_split\n",
        "X_train, X_test, y_train, y_test = train_test_split(X, y, test_size = 0.25, random_state = 0)\n"
      ],
      "metadata": {
        "id": "xD33cmBegMJB"
      },
      "execution_count": null,
      "outputs": []
    },
    {
      "cell_type": "code",
      "source": [
        "# Feature Scaling\n",
        "from sklearn.preprocessing import StandardScaler\n",
        "sc = StandardScaler()\n",
        "X_train = sc.fit_transform(X_train)\n",
        "X_test = sc.transform(X_test)"
      ],
      "metadata": {
        "id": "84EJ35Q-gNVR"
      },
      "execution_count": null,
      "outputs": []
    },
    {
      "cell_type": "code",
      "source": [
        "# Fitting Logistic Regression to the Training set\n",
        "from sklearn.linear_model import LogisticRegression\n",
        "classifier = LogisticRegression(random_state = 0)\n",
        "classifier.fit(X_train, y_train)"
      ],
      "metadata": {
        "colab": {
          "base_uri": "https://localhost:8080/",
          "height": 75
        },
        "id": "Dny2D-cpgO1c",
        "outputId": "5675067a-41da-4393-cd6f-19a22ca7a4ee"
      },
      "execution_count": null,
      "outputs": [
        {
          "output_type": "execute_result",
          "data": {
            "text/plain": [
              "LogisticRegression(random_state=0)"
            ],
            "text/html": [
              "<style>#sk-container-id-4 {color: black;background-color: white;}#sk-container-id-4 pre{padding: 0;}#sk-container-id-4 div.sk-toggleable {background-color: white;}#sk-container-id-4 label.sk-toggleable__label {cursor: pointer;display: block;width: 100%;margin-bottom: 0;padding: 0.3em;box-sizing: border-box;text-align: center;}#sk-container-id-4 label.sk-toggleable__label-arrow:before {content: \"▸\";float: left;margin-right: 0.25em;color: #696969;}#sk-container-id-4 label.sk-toggleable__label-arrow:hover:before {color: black;}#sk-container-id-4 div.sk-estimator:hover label.sk-toggleable__label-arrow:before {color: black;}#sk-container-id-4 div.sk-toggleable__content {max-height: 0;max-width: 0;overflow: hidden;text-align: left;background-color: #f0f8ff;}#sk-container-id-4 div.sk-toggleable__content pre {margin: 0.2em;color: black;border-radius: 0.25em;background-color: #f0f8ff;}#sk-container-id-4 input.sk-toggleable__control:checked~div.sk-toggleable__content {max-height: 200px;max-width: 100%;overflow: auto;}#sk-container-id-4 input.sk-toggleable__control:checked~label.sk-toggleable__label-arrow:before {content: \"▾\";}#sk-container-id-4 div.sk-estimator input.sk-toggleable__control:checked~label.sk-toggleable__label {background-color: #d4ebff;}#sk-container-id-4 div.sk-label input.sk-toggleable__control:checked~label.sk-toggleable__label {background-color: #d4ebff;}#sk-container-id-4 input.sk-hidden--visually {border: 0;clip: rect(1px 1px 1px 1px);clip: rect(1px, 1px, 1px, 1px);height: 1px;margin: -1px;overflow: hidden;padding: 0;position: absolute;width: 1px;}#sk-container-id-4 div.sk-estimator {font-family: monospace;background-color: #f0f8ff;border: 1px dotted black;border-radius: 0.25em;box-sizing: border-box;margin-bottom: 0.5em;}#sk-container-id-4 div.sk-estimator:hover {background-color: #d4ebff;}#sk-container-id-4 div.sk-parallel-item::after {content: \"\";width: 100%;border-bottom: 1px solid gray;flex-grow: 1;}#sk-container-id-4 div.sk-label:hover label.sk-toggleable__label {background-color: #d4ebff;}#sk-container-id-4 div.sk-serial::before {content: \"\";position: absolute;border-left: 1px solid gray;box-sizing: border-box;top: 0;bottom: 0;left: 50%;z-index: 0;}#sk-container-id-4 div.sk-serial {display: flex;flex-direction: column;align-items: center;background-color: white;padding-right: 0.2em;padding-left: 0.2em;position: relative;}#sk-container-id-4 div.sk-item {position: relative;z-index: 1;}#sk-container-id-4 div.sk-parallel {display: flex;align-items: stretch;justify-content: center;background-color: white;position: relative;}#sk-container-id-4 div.sk-item::before, #sk-container-id-4 div.sk-parallel-item::before {content: \"\";position: absolute;border-left: 1px solid gray;box-sizing: border-box;top: 0;bottom: 0;left: 50%;z-index: -1;}#sk-container-id-4 div.sk-parallel-item {display: flex;flex-direction: column;z-index: 1;position: relative;background-color: white;}#sk-container-id-4 div.sk-parallel-item:first-child::after {align-self: flex-end;width: 50%;}#sk-container-id-4 div.sk-parallel-item:last-child::after {align-self: flex-start;width: 50%;}#sk-container-id-4 div.sk-parallel-item:only-child::after {width: 0;}#sk-container-id-4 div.sk-dashed-wrapped {border: 1px dashed gray;margin: 0 0.4em 0.5em 0.4em;box-sizing: border-box;padding-bottom: 0.4em;background-color: white;}#sk-container-id-4 div.sk-label label {font-family: monospace;font-weight: bold;display: inline-block;line-height: 1.2em;}#sk-container-id-4 div.sk-label-container {text-align: center;}#sk-container-id-4 div.sk-container {/* jupyter's `normalize.less` sets `[hidden] { display: none; }` but bootstrap.min.css set `[hidden] { display: none !important; }` so we also need the `!important` here to be able to override the default hidden behavior on the sphinx rendered scikit-learn.org. See: https://github.com/scikit-learn/scikit-learn/issues/21755 */display: inline-block !important;position: relative;}#sk-container-id-4 div.sk-text-repr-fallback {display: none;}</style><div id=\"sk-container-id-4\" class=\"sk-top-container\"><div class=\"sk-text-repr-fallback\"><pre>LogisticRegression(random_state=0)</pre><b>In a Jupyter environment, please rerun this cell to show the HTML representation or trust the notebook. <br />On GitHub, the HTML representation is unable to render, please try loading this page with nbviewer.org.</b></div><div class=\"sk-container\" hidden><div class=\"sk-item\"><div class=\"sk-estimator sk-toggleable\"><input class=\"sk-toggleable__control sk-hidden--visually\" id=\"sk-estimator-id-4\" type=\"checkbox\" checked><label for=\"sk-estimator-id-4\" class=\"sk-toggleable__label sk-toggleable__label-arrow\">LogisticRegression</label><div class=\"sk-toggleable__content\"><pre>LogisticRegression(random_state=0)</pre></div></div></div></div></div>"
            ]
          },
          "metadata": {},
          "execution_count": 286
        }
      ]
    },
    {
      "cell_type": "code",
      "source": [
        "# Predicting the Test set results\n",
        "y_pred = classifier.predict(X_test)"
      ],
      "metadata": {
        "id": "mMAq9z9IgQTi"
      },
      "execution_count": null,
      "outputs": []
    },
    {
      "cell_type": "code",
      "source": [
        "\n",
        "# Making the Confusion Matrix\n",
        "from sklearn.metrics import confusion_matrix\n",
        "cm = confusion_matrix(y_test, y_pred)\n",
        "print(cm)"
      ],
      "metadata": {
        "colab": {
          "base_uri": "https://localhost:8080/"
        },
        "id": "Y5odVSjpgSv6",
        "outputId": "9dad8856-713a-4897-bba0-0af1485bb6f5"
      },
      "execution_count": null,
      "outputs": [
        {
          "output_type": "stream",
          "name": "stdout",
          "text": [
            "[[65  3]\n",
            " [ 8 24]]\n"
          ]
        }
      ]
    },
    {
      "cell_type": "code",
      "source": [
        "plt.figure(figsize=(9,9))\n",
        "sns.heatmap(cm, annot=True, fmt=\".3f\", linewidths=.5, square = True, cmap = 'Blues_r');\n",
        "plt.ylabel('Actual label');\n",
        "plt.xlabel('Predicted label');\n",
        "all_sample_title = 'Accuracy Score'\n",
        "plt.title(all_sample_title, size = 15);"
      ],
      "metadata": {
        "colab": {
          "base_uri": "https://localhost:8080/",
          "height": 730
        },
        "id": "iOqQjMT6gqN6",
        "outputId": "ef87549e-f564-46d7-d675-41e622e39a53"
      },
      "execution_count": null,
      "outputs": [
        {
          "output_type": "display_data",
          "data": {
            "text/plain": [
              "<Figure size 900x900 with 2 Axes>"
            ],
            "image/png": "[encoded data removed]"
          },
          "metadata": {}
        }
      ]
    },
    {
      "cell_type": "code",
      "source": [
        "# Visualising the Training set results\n",
        "from matplotlib.colors import ListedColormap\n",
        "X_set, y_set = X_train, y_train\n",
        "X1, X2 = np.meshgrid(np.arange(start = X_set[:, 0].min() - 1, stop = X_set[:, 0].max() + 1, step = 0.01),\n",
        "                     np.arange(start = X_set[:, 1].min() - 1, stop = X_set[:, 1].max() + 1, step = 0.01))\n",
        "plt.contourf(X1, X2, classifier.predict(np.array([X1.ravel(), X2.ravel()]).T).reshape(X1.shape),\n",
        "             alpha = 0.75, cmap = ListedColormap(('red', 'green')))\n",
        "plt.xlim(X1.min(), X1.max())\n",
        "plt.ylim(X2.min(), X2.max())\n",
        "for i, j in enumerate(np.unique(y_set)):\n",
        "    plt.scatter(X_set[y_set == j, 0], X_set[y_set == j, 1],\n",
        "                c = ListedColormap(('red', 'green'))(i), label = j)\n",
        "plt.title('Logistic Regression (Training set)')\n",
        "plt.xlabel('Age')\n",
        "plt.ylabel('Estimated Salary')\n",
        "plt.legend()\n",
        "plt.show()"
      ],
      "metadata": {
        "colab": {
          "base_uri": "https://localhost:8080/",
          "height": 527
        },
        "id": "QCT9WMx5gWMq",
        "outputId": "926be9d0-87cc-48ce-db18-93cc3a7f8386"
      },
      "execution_count": null,
      "outputs": [
        {
          "output_type": "stream",
          "name": "stderr",
          "text": [
            "<ipython-input-290-230199fd3a97>:11: UserWarning: *c* argument looks like a single numeric RGB or RGBA sequence, which should be avoided as value-mapping will have precedence in case its length matches with *x* & *y*.  Please use the *color* keyword-argument or provide a 2D array with a single row if you intend to specify the same RGB or RGBA value for all points.\n",
            "  plt.scatter(X_set[y_set == j, 0], X_set[y_set == j, 1],\n"
          ]
        },
        {
          "output_type": "display_data",
          "data": {
            "text/plain": [
              "<Figure size 640x480 with 1 Axes>"
            ],
            "image/png": "[encoded data removed]"
          },
          "metadata": {}
        }
      ]
    },
    {
      "cell_type": "code",
      "source": [
        "# Visualising the Test set results\n",
        "from matplotlib.colors import ListedColormap\n",
        "X_set, y_set = X_test, y_test\n",
        "X1, X2 = np.meshgrid(np.arange(start = X_set[:, 0].min() - 1, stop = X_set[:, 0].max() + 1, step = 0.01),\n",
        "                     np.arange(start = X_set[:, 1].min() - 1, stop = X_set[:, 1].max() + 1, step = 0.01))\n",
        "plt.contourf(X1, X2, classifier.predict(np.array([X1.ravel(), X2.ravel()]).T).reshape(X1.shape),\n",
        "             alpha = 0.75, cmap = ListedColormap(('red', 'green')))\n",
        "plt.xlim(X1.min(), X1.max())\n",
        "plt.ylim(X2.min(), X2.max())\n",
        "for i, j in enumerate(np.unique(y_set)):\n",
        "    plt.scatter(X_set[y_set == j, 0], X_set[y_set == j, 1],\n",
        "                c = ListedColormap(('red', 'green'))(i), label = j)\n",
        "plt.title('Logistic Regression (Test set)')\n",
        "plt.xlabel('Age')\n",
        "plt.ylabel('Estimated Salary')\n",
        "plt.legend()\n",
        "plt.show()"
      ],
      "metadata": {
        "colab": {
          "base_uri": "https://localhost:8080/",
          "height": 527
        },
        "id": "R77vqRfUcdDy",
        "outputId": "405bfe57-c959-4d94-f309-7c250e1eb57a"
      },
      "execution_count": null,
      "outputs": [
        {
          "output_type": "stream",
          "name": "stderr",
          "text": [
            "<ipython-input-45-0183ff5708eb>:11: UserWarning: *c* argument looks like a single numeric RGB or RGBA sequence, which should be avoided as value-mapping will have precedence in case its length matches with *x* & *y*.  Please use the *color* keyword-argument or provide a 2D array with a single row if you intend to specify the same RGB or RGBA value for all points.\n",
            "  plt.scatter(X_set[y_set == j, 0], X_set[y_set == j, 1],\n"
          ]
        },
        {
          "output_type": "display_data",
          "data": {
            "text/plain": [
              "<Figure size 640x480 with 1 Axes>"
            ],
            "image/png": "[encoded data removed]"
          },
          "metadata": {}
        }
      ]
    },
    {
      "cell_type": "markdown",
      "source": [
        "بالتأكيد، اليك شرحًا مفصلاً عن خوارزمية \"أقرب الجيران\" أو k-Nearest Neighbors (k-NN) في اللغة الإنجليزية:\n",
        "\n",
        "## خوارزمية أقرب الجيران (k-NN):\n",
        "\n",
        "### المقدمة:\n",
        "خوارزمية k-NN هي خوارزمية تصنيف وتكوين بسيطة وغير معلمة تُستخدم في التعلم الآلي. الفكرة الرئيسية وراء الخوارزمية هي تصنيف العنصر الجديد على أساس كيفية قربه من العناصر في مجموعة البيانات التدريبية.\n",
        "\n",
        "### الخطوات:\n",
        "\n",
        "1. حدد عدد k من الجيران. عادةً، يتم اختيار قيمة فردية لـ k.\n",
        "2. احسب المسافة بين النقطة التي ترغب في تصنيفها وجميع النقاط الأخرى في مجموعة البيانات.\n",
        "3. حدد k نقاط من مجموعة البيانات التي هي الأقرب إلى النقطة التي تريد تصنيفها.\n",
        "4. تحديد التصنيف الذي يكون له أغلبية الجيران بين الـ k جارًا (على سبيل المثال، إذا كان لديك 3 من الجيران تصنف كـ \"قط\" و2 تصنف كـ \"كلب\", فإن التصنيف النهائي سيكون \"قط\").\n",
        "\n",
        "### المسافة:\n",
        "هناك طرق متعددة لحساب المسافة، ولكن الأكثر استخدامًا هو المسافة اليوكليدية. وهناك أيضًا المسافة المانهاتن وغيرها.\n",
        "\n",
        "![image_2021-09-14_020232.png](data:image/png;base64,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)\n"
      ],
      "metadata": {
        "id": "5DT9He9kjY9z"
      }
    },
    {
      "cell_type": "code",
      "source": [
        "# K-Nearest Neighbors (K-NN)\n",
        "\n",
        "# Importing the libraries\n",
        "import numpy as np\n",
        "import matplotlib.pyplot as plt\n",
        "import pandas as pd"
      ],
      "metadata": {
        "id": "1Pr3MQ9GcdAW"
      },
      "execution_count": null,
      "outputs": []
    },
    {
      "cell_type": "code",
      "source": [
        "\n",
        "# Importing the dataset\n",
        "dataset = pd.read_csv('/content/drive/MyDrive/الورشة/Social_Network_Ads.csv')\n",
        "X = dataset.iloc[:, [2, 3]].values\n",
        "y = dataset.iloc[:, 4].values"
      ],
      "metadata": {
        "id": "GatqKD31cc9j"
      },
      "execution_count": null,
      "outputs": []
    },
    {
      "cell_type": "code",
      "source": [
        "\n",
        "# Splitting the dataset into the Training set and Test set\n",
        "from sklearn.model_selection import train_test_split\n",
        "X_train, X_test, y_train, y_test = train_test_split(X, y, test_size = 0.25, random_state = 0)\n"
      ],
      "metadata": {
        "id": "AXcFTILscc6e"
      },
      "execution_count": null,
      "outputs": []
    },
    {
      "cell_type": "code",
      "source": [
        "# Feature Scaling\n",
        "from sklearn.preprocessing import StandardScaler\n",
        "sc = StandardScaler()\n",
        "X_train = sc.fit_transform(X_train)\n",
        "X_test = sc.transform(X_test)"
      ],
      "metadata": {
        "id": "HxeQfc6vcc2v"
      },
      "execution_count": null,
      "outputs": []
    },
    {
      "cell_type": "code",
      "source": [
        "\n",
        "# Fitting K-NN to the Training set\n",
        "from sklearn.neighbors import KNeighborsClassifier\n",
        "classifier = KNeighborsClassifier(n_neighbors = 5, metric = 'minkowski', p = 2)\n",
        "classifier.fit(X_train, y_train)"
      ],
      "metadata": {
        "colab": {
          "base_uri": "https://localhost:8080/",
          "height": 75
        },
        "id": "ws7AFFuGkBj3",
        "outputId": "2a032d0c-8c0e-482e-e411-e5112c32aa39"
      },
      "execution_count": null,
      "outputs": [
        {
          "output_type": "execute_result",
          "data": {
            "text/plain": [
              "KNeighborsClassifier()"
            ],
            "text/html": [
              "<style>#sk-container-id-5 {color: black;background-color: white;}#sk-container-id-5 pre{padding: 0;}#sk-container-id-5 div.sk-toggleable {background-color: white;}#sk-container-id-5 label.sk-toggleable__label {cursor: pointer;display: block;width: 100%;margin-bottom: 0;padding: 0.3em;box-sizing: border-box;text-align: center;}#sk-container-id-5 label.sk-toggleable__label-arrow:before {content: \"▸\";float: left;margin-right: 0.25em;color: #696969;}#sk-container-id-5 label.sk-toggleable__label-arrow:hover:before {color: black;}#sk-container-id-5 div.sk-estimator:hover label.sk-toggleable__label-arrow:before {color: black;}#sk-container-id-5 div.sk-toggleable__content {max-height: 0;max-width: 0;overflow: hidden;text-align: left;background-color: #f0f8ff;}#sk-container-id-5 div.sk-toggleable__content pre {margin: 0.2em;color: black;border-radius: 0.25em;background-color: #f0f8ff;}#sk-container-id-5 input.sk-toggleable__control:checked~div.sk-toggleable__content {max-height: 200px;max-width: 100%;overflow: auto;}#sk-container-id-5 input.sk-toggleable__control:checked~label.sk-toggleable__label-arrow:before {content: \"▾\";}#sk-container-id-5 div.sk-estimator input.sk-toggleable__control:checked~label.sk-toggleable__label {background-color: #d4ebff;}#sk-container-id-5 div.sk-label input.sk-toggleable__control:checked~label.sk-toggleable__label {background-color: #d4ebff;}#sk-container-id-5 input.sk-hidden--visually {border: 0;clip: rect(1px 1px 1px 1px);clip: rect(1px, 1px, 1px, 1px);height: 1px;margin: -1px;overflow: hidden;padding: 0;position: absolute;width: 1px;}#sk-container-id-5 div.sk-estimator {font-family: monospace;background-color: #f0f8ff;border: 1px dotted black;border-radius: 0.25em;box-sizing: border-box;margin-bottom: 0.5em;}#sk-container-id-5 div.sk-estimator:hover {background-color: #d4ebff;}#sk-container-id-5 div.sk-parallel-item::after {content: \"\";width: 100%;border-bottom: 1px solid gray;flex-grow: 1;}#sk-container-id-5 div.sk-label:hover label.sk-toggleable__label {background-color: #d4ebff;}#sk-container-id-5 div.sk-serial::before {content: \"\";position: absolute;border-left: 1px solid gray;box-sizing: border-box;top: 0;bottom: 0;left: 50%;z-index: 0;}#sk-container-id-5 div.sk-serial {display: flex;flex-direction: column;align-items: center;background-color: white;padding-right: 0.2em;padding-left: 0.2em;position: relative;}#sk-container-id-5 div.sk-item {position: relative;z-index: 1;}#sk-container-id-5 div.sk-parallel {display: flex;align-items: stretch;justify-content: center;background-color: white;position: relative;}#sk-container-id-5 div.sk-item::before, #sk-container-id-5 div.sk-parallel-item::before {content: \"\";position: absolute;border-left: 1px solid gray;box-sizing: border-box;top: 0;bottom: 0;left: 50%;z-index: -1;}#sk-container-id-5 div.sk-parallel-item {display: flex;flex-direction: column;z-index: 1;position: relative;background-color: white;}#sk-container-id-5 div.sk-parallel-item:first-child::after {align-self: flex-end;width: 50%;}#sk-container-id-5 div.sk-parallel-item:last-child::after {align-self: flex-start;width: 50%;}#sk-container-id-5 div.sk-parallel-item:only-child::after {width: 0;}#sk-container-id-5 div.sk-dashed-wrapped {border: 1px dashed gray;margin: 0 0.4em 0.5em 0.4em;box-sizing: border-box;padding-bottom: 0.4em;background-color: white;}#sk-container-id-5 div.sk-label label {font-family: monospace;font-weight: bold;display: inline-block;line-height: 1.2em;}#sk-container-id-5 div.sk-label-container {text-align: center;}#sk-container-id-5 div.sk-container {/* jupyter's `normalize.less` sets `[hidden] { display: none; }` but bootstrap.min.css set `[hidden] { display: none !important; }` so we also need the `!important` here to be able to override the default hidden behavior on the sphinx rendered scikit-learn.org. See: https://github.com/scikit-learn/scikit-learn/issues/21755 */display: inline-block !important;position: relative;}#sk-container-id-5 div.sk-text-repr-fallback {display: none;}</style><div id=\"sk-container-id-5\" class=\"sk-top-container\"><div class=\"sk-text-repr-fallback\"><pre>KNeighborsClassifier()</pre><b>In a Jupyter environment, please rerun this cell to show the HTML representation or trust the notebook. <br />On GitHub, the HTML representation is unable to render, please try loading this page with nbviewer.org.</b></div><div class=\"sk-container\" hidden><div class=\"sk-item\"><div class=\"sk-estimator sk-toggleable\"><input class=\"sk-toggleable__control sk-hidden--visually\" id=\"sk-estimator-id-5\" type=\"checkbox\" checked><label for=\"sk-estimator-id-5\" class=\"sk-toggleable__label sk-toggleable__label-arrow\">KNeighborsClassifier</label><div class=\"sk-toggleable__content\"><pre>KNeighborsClassifier()</pre></div></div></div></div></div>"
            ]
          },
          "metadata": {},
          "execution_count": 295
        }
      ]
    },
    {
      "cell_type": "code",
      "source": [
        "# Predicting the Test set results\n",
        "y_pred = classifier.predict(X_test)"
      ],
      "metadata": {
        "id": "FOj4wPqQkCxn"
      },
      "execution_count": null,
      "outputs": []
    },
    {
      "cell_type": "code",
      "source": [
        "# Making the Confusion Matrix\n",
        "from sklearn.metrics import confusion_matrix\n",
        "cm = confusion_matrix(y_test, y_pred)\n",
        "print(cm)"
      ],
      "metadata": {
        "colab": {
          "base_uri": "https://localhost:8080/"
        },
        "id": "_TcywIM9kERU",
        "outputId": "6a6aeb6a-ed3a-4409-c112-e8ff52862b12"
      },
      "execution_count": null,
      "outputs": [
        {
          "output_type": "stream",
          "name": "stdout",
          "text": [
            "[[64  4]\n",
            " [ 3 29]]\n"
          ]
        }
      ]
    },
    {
      "cell_type": "code",
      "source": [
        "\n",
        "# Visualising the Training set results\n",
        "from matplotlib.colors import ListedColormap\n",
        "X_set, y_set = X_train, y_train\n",
        "X1, X2 = np.meshgrid(np.arange(start = X_set[:, 0].min() - 1, stop = X_set[:, 0].max() + 1, step = 0.01),\n",
        "                     np.arange(start = X_set[:, 1].min() - 1, stop = X_set[:, 1].max() + 1, step = 0.01))\n",
        "plt.contourf(X1, X2, classifier.predict(np.array([X1.ravel(), X2.ravel()]).T).reshape(X1.shape),\n",
        "             alpha = 0.75, cmap = ListedColormap(('red', 'green')))\n",
        "plt.xlim(X1.min(), X1.max())\n",
        "plt.ylim(X2.min(), X2.max())\n",
        "for i, j in enumerate(np.unique(y_set)):\n",
        "    plt.scatter(X_set[y_set == j, 0], X_set[y_set == j, 1],\n",
        "                c = ListedColormap(('red', 'green'))(i), label = j)\n",
        "plt.title('K-NN (Training set)')\n",
        "plt.xlabel('Age')\n",
        "plt.ylabel('Estimated Salary')\n",
        "plt.legend()\n",
        "plt.show()"
      ],
      "metadata": {
        "colab": {
          "base_uri": "https://localhost:8080/",
          "height": 527
        },
        "id": "kYHqkktpkHRn",
        "outputId": "1a1d4f69-2c14-41e4-9b88-0bcc4e5452ad"
      },
      "execution_count": null,
      "outputs": [
        {
          "output_type": "stream",
          "name": "stderr",
          "text": [
            "<ipython-input-298-9c8324b2b27b>:11: UserWarning: *c* argument looks like a single numeric RGB or RGBA sequence, which should be avoided as value-mapping will have precedence in case its length matches with *x* & *y*.  Please use the *color* keyword-argument or provide a 2D array with a single row if you intend to specify the same RGB or RGBA value for all points.\n",
            "  plt.scatter(X_set[y_set == j, 0], X_set[y_set == j, 1],\n"
          ]
        },
        {
          "output_type": "display_data",
          "data": {
            "text/plain": [
              "<Figure size 640x480 with 1 Axes>"
            ],
            "image/png": "[encoded data removed]"
          },
          "metadata": {}
        }
      ]
    },
    {
      "cell_type": "code",
      "source": [
        "# Visualising the Test set results\n",
        "from matplotlib.colors import ListedColormap\n",
        "X_set, y_set = X_test, y_test\n",
        "X1, X2 = np.meshgrid(np.arange(start = X_set[:, 0].min() - 1, stop = X_set[:, 0].max() + 1, step = 0.01),\n",
        "                     np.arange(start = X_set[:, 1].min() - 1, stop = X_set[:, 1].max() + 1, step = 0.01))\n",
        "plt.contourf(X1, X2, classifier.predict(np.array([X1.ravel(), X2.ravel()]).T).reshape(X1.shape),\n",
        "             alpha = 0.75, cmap = ListedColormap(('red', 'green')))\n",
        "plt.xlim(X1.min(), X1.max())\n",
        "plt.ylim(X2.min(), X2.max())\n",
        "for i, j in enumerate(np.unique(y_set)):\n",
        "    plt.scatter(X_set[y_set == j, 0], X_set[y_set == j, 1],\n",
        "                c = ListedColormap(('red', 'green'))(i), label = j)\n",
        "plt.title('K-NN (Test set)')\n",
        "plt.xlabel('Age')\n",
        "plt.ylabel('Estimated Salary')\n",
        "plt.legend()\n",
        "plt.show()"
      ],
      "metadata": {
        "colab": {
          "base_uri": "https://localhost:8080/",
          "height": 527
        },
        "id": "ZTV7Hfp0ccyl",
        "outputId": "5f6a7884-6c8b-4a5f-85f8-3e4581855ed0"
      },
      "execution_count": null,
      "outputs": [
        {
          "output_type": "stream",
          "name": "stderr",
          "text": [
            "<ipython-input-299-e50db74cdf40>:11: UserWarning: *c* argument looks like a single numeric RGB or RGBA sequence, which should be avoided as value-mapping will have precedence in case its length matches with *x* & *y*.  Please use the *color* keyword-argument or provide a 2D array with a single row if you intend to specify the same RGB or RGBA value for all points.\n",
            "  plt.scatter(X_set[y_set == j, 0], X_set[y_set == j, 1],\n"
          ]
        },
        {
          "output_type": "display_data",
          "data": {
            "text/plain": [
              "<Figure size 640x480 with 1 Axes>"
            ],
            "image/png": "[encoded data removed]"
          },
          "metadata": {}
        }
      ]
    },
    {
      "cell_type": "markdown",
      "source": [
        "## تعريف آلة المتجه الداعم (SVM)\n",
        "\n",
        "1. **تعريف آلة المتجه الداعم (SVM)**:\n",
        "   - آلة المتجه الداعم (SVM) هي نموذج تعلم آلي يُستخدم بشكل رئيسي في مشكلات التصنيف والانحدار. تعمل على البحث عن المتجه الذي يفصل بين البيانات إلى فئتين بأكبر هامش ممكن. في حالة البيانات غير القابلة للفصل الخطي، يمكن استخدام الأبعاد الأعلى للعثور على المتجه المثالي.\n",
        "\n",
        "2. **استخدامات آلة المتجه الداعم**:\n",
        "   - تُستخدم آلة المتجه الداعم في مجموعة واسعة من التطبيقات، بما في ذلك التصنيف والانحدار.\n",
        "\n",
        "3. **مميزات آلة المتجه الداعم**:\n",
        "   - توفير حلاً فعالاً للمشكلات التي تحتوي على عدد كبير من المتغيرات.\n",
        "   - قدرتها على التعامل مع البيانات غير الخطية من خلال استخدام الأبعاد الأعلى.\n",
        "   - تقديم حلاً للمشكلات التي تحتوي على عدد كبير من المتغيرات.\n",
        "   - قدرتها على التعامل مع البيانات غير الخطية من خلال استخدام الأبعاد الأعلى.\n",
        "\n",
        "\n",
        "3. **انواع آلة المتجه الداعم**:\n",
        "\n",
        "1. **Linear SVM (آلة المتجه الداعم الخطي)**: هو نوع من SVM الذي يستخدم وظيفة خطية لتصنيف البيانات.\n",
        "2. **Non Linear SVM (آلة المتجه الداعم غير الخطي)**: هو نوع من SVM الذي يستخدم وظائف غير خطية لتصنيف البيانات.\n"
      ],
      "metadata": {
        "id": "3M55HQjpktB5"
      }
    },
    {
      "cell_type": "code",
      "source": [
        "# Kernel SVM\n",
        "\n",
        "# Importing the libraries\n",
        "import numpy as np\n",
        "import matplotlib.pyplot as plt\n",
        "import pandas as pd\n"
      ],
      "metadata": {
        "id": "uWUh1U3Ew5A0"
      },
      "execution_count": null,
      "outputs": []
    },
    {
      "cell_type": "code",
      "source": [
        "# Importing the dataset\n",
        "dataset = pd.read_csv('/content/drive/MyDrive/الورشة/Social_Network_Ads.csv')\n",
        "X = dataset.iloc[:, [2, 3]].values\n",
        "y = dataset.iloc[:, 4].values"
      ],
      "metadata": {
        "id": "ETl2VVbww_Hu"
      },
      "execution_count": null,
      "outputs": []
    },
    {
      "cell_type": "code",
      "source": [
        "# Splitting the dataset into the Training set and Test set\n",
        "from sklearn.model_selection import train_test_split\n",
        "X_train, X_test, y_train, y_test = train_test_split(X, y, test_size = 0.25, random_state = 0)\n"
      ],
      "metadata": {
        "id": "6vmWMD2rxBsc"
      },
      "execution_count": null,
      "outputs": []
    },
    {
      "cell_type": "code",
      "source": [
        "# Feature Scaling\n",
        "from sklearn.preprocessing import StandardScaler\n",
        "sc = StandardScaler()\n",
        "X_train = sc.fit_transform(X_train)\n",
        "X_test = sc.transform(X_test)\n"
      ],
      "metadata": {
        "id": "C5EsrhvTxDLS"
      },
      "execution_count": null,
      "outputs": []
    },
    {
      "cell_type": "code",
      "source": [
        "# Fitting Kernel SVM to the Training set\n",
        "from sklearn.svm import SVC\n",
        "classifier = SVC(kernel = 'rbf', random_state = 0)\n",
        "classifier.fit(X_train, y_train)\n",
        "print (classifier.score(X_test, y_test))"
      ],
      "metadata": {
        "colab": {
          "base_uri": "https://localhost:8080/"
        },
        "id": "cWAZI2BtxHor",
        "outputId": "fd394ccc-6e52-44e9-d877-1c558ac14b5e"
      },
      "execution_count": null,
      "outputs": [
        {
          "output_type": "stream",
          "name": "stdout",
          "text": [
            "0.93\n"
          ]
        }
      ]
    },
    {
      "cell_type": "code",
      "source": [
        "# Predicting the Test set results\n",
        "y_pred = classifier.predict(X_test)"
      ],
      "metadata": {
        "id": "uWRMa6fOxNzk"
      },
      "execution_count": null,
      "outputs": []
    },
    {
      "cell_type": "code",
      "source": [
        "# Making the Confusion Matrix\n",
        "from sklearn.metrics import confusion_matrix\n",
        "cm = confusion_matrix(y_test, y_pred)\n",
        "print(cm)"
      ],
      "metadata": {
        "colab": {
          "base_uri": "https://localhost:8080/"
        },
        "id": "swSUcDQQxRmT",
        "outputId": "78ea3187-1f70-4dfe-a5d4-b17f655f541b"
      },
      "execution_count": null,
      "outputs": [
        {
          "output_type": "stream",
          "name": "stdout",
          "text": [
            "[[64  4]\n",
            " [ 3 29]]\n"
          ]
        }
      ]
    },
    {
      "cell_type": "code",
      "source": [
        "# Visualising the Training set results\n",
        "from matplotlib.colors import ListedColormap\n",
        "X_set, y_set = X_train, y_train\n",
        "X1, X2 = np.meshgrid(np.arange(start = X_set[:, 0].min() - 1, stop = X_set[:, 0].max() + 1, step = 0.01),\n",
        "                     np.arange(start = X_set[:, 1].min() - 1, stop = X_set[:, 1].max() + 1, step = 0.01))\n",
        "plt.contourf(X1, X2, classifier.predict(np.array([X1.ravel(), X2.ravel()]).T).reshape(X1.shape),\n",
        "             alpha = 0.75, cmap = ListedColormap(('red', 'green')))\n",
        "plt.xlim(X1.min(), X1.max())\n",
        "plt.ylim(X2.min(), X2.max())\n",
        "for i, j in enumerate(np.unique(y_set)):\n",
        "    plt.scatter(X_set[y_set == j, 0], X_set[y_set == j, 1],\n",
        "                c = ListedColormap(('red', 'green'))(i), label = j)\n",
        "plt.title('Kernel SVM (Training set)')\n",
        "plt.xlabel('Age')\n",
        "plt.ylabel('Estimated Salary')\n",
        "plt.legend()\n",
        "plt.show()"
      ],
      "metadata": {
        "colab": {
          "base_uri": "https://localhost:8080/",
          "height": 527
        },
        "id": "XYEk_6Z1xUDr",
        "outputId": "8d0ad31a-e36b-4109-f6b3-8c79ba75dad5"
      },
      "execution_count": null,
      "outputs": [
        {
          "output_type": "stream",
          "name": "stderr",
          "text": [
            "<ipython-input-307-cc92e8c75bb8>:11: UserWarning: *c* argument looks like a single numeric RGB or RGBA sequence, which should be avoided as value-mapping will have precedence in case its length matches with *x* & *y*.  Please use the *color* keyword-argument or provide a 2D array with a single row if you intend to specify the same RGB or RGBA value for all points.\n",
            "  plt.scatter(X_set[y_set == j, 0], X_set[y_set == j, 1],\n"
          ]
        },
        {
          "output_type": "display_data",
          "data": {
            "text/plain": [
              "<Figure size 640x480 with 1 Axes>"
            ],
            "image/png": "[encoded data removed]"
          },
          "metadata": {}
        }
      ]
    },
    {
      "cell_type": "code",
      "source": [
        "# Visualising the Test set results\n",
        "from matplotlib.colors import ListedColormap\n",
        "X_set, y_set = X_test, y_test\n",
        "X1, X2 = np.meshgrid(np.arange(start = X_set[:, 0].min() - 1, stop = X_set[:, 0].max() + 1, step = 0.01),\n",
        "                     np.arange(start = X_set[:, 1].min() - 1, stop = X_set[:, 1].max() + 1, step = 0.01))\n",
        "plt.contourf(X1, X2, classifier.predict(np.array([X1.ravel(), X2.ravel()]).T).reshape(X1.shape),\n",
        "             alpha = 0.75, cmap = ListedColormap(('red', 'green')))\n",
        "plt.xlim(X1.min(), X1.max())\n",
        "plt.ylim(X2.min(), X2.max())\n",
        "for i, j in enumerate(np.unique(y_set)):\n",
        "    plt.scatter(X_set[y_set == j, 0], X_set[y_set == j, 1],\n",
        "                c = ListedColormap(('red', 'green'))(i), label = j)\n",
        "plt.title('Kernel SVM (Test set)')\n",
        "plt.xlabel('Age')\n",
        "plt.ylabel('Estimated Salary')\n",
        "plt.legend()\n",
        "plt.show()"
      ],
      "metadata": {
        "id": "ETWwxwVVkso-",
        "colab": {
          "base_uri": "https://localhost:8080/",
          "height": 527
        },
        "outputId": "eba82b35-3452-496b-e17f-dc2f896b17b8"
      },
      "execution_count": null,
      "outputs": [
        {
          "output_type": "stream",
          "name": "stderr",
          "text": [
            "<ipython-input-308-a65790561020>:11: UserWarning: *c* argument looks like a single numeric RGB or RGBA sequence, which should be avoided as value-mapping will have precedence in case its length matches with *x* & *y*.  Please use the *color* keyword-argument or provide a 2D array with a single row if you intend to specify the same RGB or RGBA value for all points.\n",
            "  plt.scatter(X_set[y_set == j, 0], X_set[y_set == j, 1],\n"
          ]
        },
        {
          "output_type": "display_data",
          "data": {
            "text/plain": [
              "<Figure size 640x480 with 1 Axes>"
            ],
            "image/png": "[encoded data removed]"
          },
          "metadata": {}
        }
      ]
    },
    {
      "cell_type": "markdown",
      "source": [
        "\n",
        "##شجرة القرار (Decision Tree):\n",
        "\n",
        "**التعريف:**\n",
        "شجرة القرار هي أحد الخوارزميات المستخدمة في التعلم الآلي وتستخدم بشكل رئيسي في مشكلات التصنيف، ولكن يمكن استخدامها أيضًا في مشكلات التنبؤ. تتكون شجرة القرار من عقد وأغصان. تمثل العقد الداخلية ميزة أو سمة من البيانات، وتمثل الأغصان القيم المختلفة لهذه السمات، والعقد النهائية تمثل الناتج أو القرار.\n",
        "\n",
        "**كيف تعمل:**\n",
        "1. تبدأ الشجرة بالعقدة الجذرية التي تمثل السمة الأكثر أهمية.\n",
        "2. تقوم بفحص قيم هذه السمة وتقسيم البيانات بناءً على هذه القيم.\n",
        "3. يتم تكرار هذه العملية لكل سمة حتى يتم التوصل إلى قرار نهائي.\n",
        "\n",
        "**المزايا:**\n",
        "- سهلة الفهم والتفسير.\n",
        "- لا تحتاج إلى التحضير الكبير للبيانات.\n",
        "- قادرة على التعامل مع البيانات الرقمية والفئوية.\n",
        "\n"
      ],
      "metadata": {
        "id": "UAcnSZsX4FwJ"
      }
    },
    {
      "cell_type": "code",
      "source": [
        "# Decision Tree Classification\n",
        "\n",
        "# Importing the libraries\n",
        "import numpy as np\n",
        "import matplotlib.pyplot as plt\n",
        "import pandas as pd"
      ],
      "metadata": {
        "id": "lv4heKMpkuHZ"
      },
      "execution_count": null,
      "outputs": []
    },
    {
      "cell_type": "code",
      "source": [
        "# Importing the dataset\n",
        "dataset = pd.read_csv('/content/drive/MyDrive/الورشة/Social_Network_Ads.csv')\n",
        "X = dataset.iloc[:, [2, 3]].values\n",
        "y = dataset.iloc[:, 4].values\n"
      ],
      "metadata": {
        "id": "hRGTotWfkuDm"
      },
      "execution_count": null,
      "outputs": []
    },
    {
      "cell_type": "code",
      "source": [
        "# Splitting the dataset into the Training set and Test set\n",
        "from sklearn.model_selection import train_test_split\n",
        "X_train, X_test, y_train, y_test = train_test_split(X, y, test_size = 0.25, random_state = 0)\n"
      ],
      "metadata": {
        "id": "P1Fv57qhkuAx"
      },
      "execution_count": null,
      "outputs": []
    },
    {
      "cell_type": "code",
      "source": [
        "# Feature Scaling\n",
        "from sklearn.preprocessing import StandardScaler\n",
        "sc = StandardScaler()\n",
        "X_train = sc.fit_transform(X_train)\n",
        "X_test = sc.transform(X_test)\n"
      ],
      "metadata": {
        "id": "1ZZbs6wLkt9Q"
      },
      "execution_count": null,
      "outputs": []
    },
    {
      "cell_type": "code",
      "source": [
        "# Decision Tree Classifier\n",
        "from sklearn.tree import DecisionTreeClassifier\n",
        "\n",
        "classifier = DecisionTreeClassifier(random_state=42)\n",
        "classifier.fit(X_train, y_train)\n",
        "y_pred = classifier.predict(X_test)"
      ],
      "metadata": {
        "id": "mBiO4eXfS3_4"
      },
      "execution_count": null,
      "outputs": []
    },
    {
      "cell_type": "code",
      "source": [
        "# # Fitting Decision Tree Classification to the Training set\n",
        "# from sklearn.ensemble import RandomForestClassifier\n",
        "# classifier = RandomForestClassifier(n_estimators=100)\n",
        "# classifier.fit(X_train, y_train)\n"
      ],
      "metadata": {
        "id": "STb15XsNkt6n",
        "colab": {
          "base_uri": "https://localhost:8080/",
          "height": 75
        },
        "outputId": "5b2ab1a1-ed0d-431f-be53-672b496a12a0"
      },
      "execution_count": null,
      "outputs": [
        {
          "output_type": "execute_result",
          "data": {
            "text/plain": [
              "RandomForestClassifier()"
            ],
            "text/html": [
              "<style>#sk-container-id-6 {color: black;background-color: white;}#sk-container-id-6 pre{padding: 0;}#sk-container-id-6 div.sk-toggleable {background-color: white;}#sk-container-id-6 label.sk-toggleable__label {cursor: pointer;display: block;width: 100%;margin-bottom: 0;padding: 0.3em;box-sizing: border-box;text-align: center;}#sk-container-id-6 label.sk-toggleable__label-arrow:before {content: \"▸\";float: left;margin-right: 0.25em;color: #696969;}#sk-container-id-6 label.sk-toggleable__label-arrow:hover:before {color: black;}#sk-container-id-6 div.sk-estimator:hover label.sk-toggleable__label-arrow:before {color: black;}#sk-container-id-6 div.sk-toggleable__content {max-height: 0;max-width: 0;overflow: hidden;text-align: left;background-color: #f0f8ff;}#sk-container-id-6 div.sk-toggleable__content pre {margin: 0.2em;color: black;border-radius: 0.25em;background-color: #f0f8ff;}#sk-container-id-6 input.sk-toggleable__control:checked~div.sk-toggleable__content {max-height: 200px;max-width: 100%;overflow: auto;}#sk-container-id-6 input.sk-toggleable__control:checked~label.sk-toggleable__label-arrow:before {content: \"▾\";}#sk-container-id-6 div.sk-estimator input.sk-toggleable__control:checked~label.sk-toggleable__label {background-color: #d4ebff;}#sk-container-id-6 div.sk-label input.sk-toggleable__control:checked~label.sk-toggleable__label {background-color: #d4ebff;}#sk-container-id-6 input.sk-hidden--visually {border: 0;clip: rect(1px 1px 1px 1px);clip: rect(1px, 1px, 1px, 1px);height: 1px;margin: -1px;overflow: hidden;padding: 0;position: absolute;width: 1px;}#sk-container-id-6 div.sk-estimator {font-family: monospace;background-color: #f0f8ff;border: 1px dotted black;border-radius: 0.25em;box-sizing: border-box;margin-bottom: 0.5em;}#sk-container-id-6 div.sk-estimator:hover {background-color: #d4ebff;}#sk-container-id-6 div.sk-parallel-item::after {content: \"\";width: 100%;border-bottom: 1px solid gray;flex-grow: 1;}#sk-container-id-6 div.sk-label:hover label.sk-toggleable__label {background-color: #d4ebff;}#sk-container-id-6 div.sk-serial::before {content: \"\";position: absolute;border-left: 1px solid gray;box-sizing: border-box;top: 0;bottom: 0;left: 50%;z-index: 0;}#sk-container-id-6 div.sk-serial {display: flex;flex-direction: column;align-items: center;background-color: white;padding-right: 0.2em;padding-left: 0.2em;position: relative;}#sk-container-id-6 div.sk-item {position: relative;z-index: 1;}#sk-container-id-6 div.sk-parallel {display: flex;align-items: stretch;justify-content: center;background-color: white;position: relative;}#sk-container-id-6 div.sk-item::before, #sk-container-id-6 div.sk-parallel-item::before {content: \"\";position: absolute;border-left: 1px solid gray;box-sizing: border-box;top: 0;bottom: 0;left: 50%;z-index: -1;}#sk-container-id-6 div.sk-parallel-item {display: flex;flex-direction: column;z-index: 1;position: relative;background-color: white;}#sk-container-id-6 div.sk-parallel-item:first-child::after {align-self: flex-end;width: 50%;}#sk-container-id-6 div.sk-parallel-item:last-child::after {align-self: flex-start;width: 50%;}#sk-container-id-6 div.sk-parallel-item:only-child::after {width: 0;}#sk-container-id-6 div.sk-dashed-wrapped {border: 1px dashed gray;margin: 0 0.4em 0.5em 0.4em;box-sizing: border-box;padding-bottom: 0.4em;background-color: white;}#sk-container-id-6 div.sk-label label {font-family: monospace;font-weight: bold;display: inline-block;line-height: 1.2em;}#sk-container-id-6 div.sk-label-container {text-align: center;}#sk-container-id-6 div.sk-container {/* jupyter's `normalize.less` sets `[hidden] { display: none; }` but bootstrap.min.css set `[hidden] { display: none !important; }` so we also need the `!important` here to be able to override the default hidden behavior on the sphinx rendered scikit-learn.org. See: https://github.com/scikit-learn/scikit-learn/issues/21755 */display: inline-block !important;position: relative;}#sk-container-id-6 div.sk-text-repr-fallback {display: none;}</style><div id=\"sk-container-id-6\" class=\"sk-top-container\"><div class=\"sk-text-repr-fallback\"><pre>RandomForestClassifier()</pre><b>In a Jupyter environment, please rerun this cell to show the HTML representation or trust the notebook. <br />On GitHub, the HTML representation is unable to render, please try loading this page with nbviewer.org.</b></div><div class=\"sk-container\" hidden><div class=\"sk-item\"><div class=\"sk-estimator sk-toggleable\"><input class=\"sk-toggleable__control sk-hidden--visually\" id=\"sk-estimator-id-6\" type=\"checkbox\" checked><label for=\"sk-estimator-id-6\" class=\"sk-toggleable__label sk-toggleable__label-arrow\">RandomForestClassifier</label><div class=\"sk-toggleable__content\"><pre>RandomForestClassifier()</pre></div></div></div></div></div>"
            ]
          },
          "metadata": {},
          "execution_count": 313
        }
      ]
    },
    {
      "cell_type": "code",
      "source": [
        "from sklearn.model_selection import cross_val_score\n",
        "from sklearn.ensemble import RandomForestClassifier\n",
        "\n",
        "# Example classifier\n",
        "# clf = RandomForestClassifier()\n",
        "\n",
        "# Cross-validation (assuming X and y are your data and labels)\n",
        "scores = cross_val_score(classifier, X, y, cv=5)  # 5-fold cross-validation\n",
        "\n",
        "average_accuracy = scores.mean()\n",
        "print(average_accuracy)"
      ],
      "metadata": {
        "colab": {
          "base_uri": "https://localhost:8080/"
        },
        "id": "n1Vxg-EJ4esk",
        "outputId": "1e0259f3-836b-477b-e509-86672f70a61d"
      },
      "execution_count": null,
      "outputs": [
        {
          "output_type": "stream",
          "name": "stdout",
          "text": [
            "0.8074999999999999\n"
          ]
        }
      ]
    },
    {
      "cell_type": "code",
      "source": [
        "# Predicting the Test set results\n",
        "y_pred = classifier.predict(X_test)\n"
      ],
      "metadata": {
        "id": "X8srIii74mc5"
      },
      "execution_count": null,
      "outputs": []
    },
    {
      "cell_type": "code",
      "source": [
        "\n",
        "# Making the Confusion Matrix\n",
        "from sklearn.metrics import confusion_matrix\n",
        "cm = confusion_matrix(y_test, y_pred)\n",
        "print(cm)"
      ],
      "metadata": {
        "colab": {
          "base_uri": "https://localhost:8080/"
        },
        "id": "d5ZwFxiI4q4V",
        "outputId": "76f7cf82-7346-4796-b995-a9c075e9f92d"
      },
      "execution_count": null,
      "outputs": [
        {
          "output_type": "stream",
          "name": "stdout",
          "text": [
            "[[62  6]\n",
            " [ 3 29]]\n"
          ]
        }
      ]
    },
    {
      "cell_type": "code",
      "source": [
        "# Visualising the Training set results\n",
        "from matplotlib.colors import ListedColormap\n",
        "X_set, y_set = X_train, y_train\n",
        "X1, X2 = np.meshgrid(np.arange(start = X_set[:, 0].min() - 1, stop = X_set[:, 0].max() + 1, step = 0.01),\n",
        "                     np.arange(start = X_set[:, 1].min() - 1, stop = X_set[:, 1].max() + 1, step = 0.01))\n",
        "plt.contourf(X1, X2, classifier.predict(np.array([X1.ravel(), X2.ravel()]).T).reshape(X1.shape),\n",
        "             alpha = 0.75, cmap = ListedColormap(('red', 'green')))\n",
        "plt.xlim(X1.min(), X1.max())\n",
        "plt.ylim(X2.min(), X2.max())\n",
        "for i, j in enumerate(np.unique(y_set)):\n",
        "    plt.scatter(X_set[y_set == j, 0], X_set[y_set == j, 1],\n",
        "                c = ListedColormap(('red', 'green'))(i), label = j)\n",
        "plt.title('Decision Tree Classification (Training set)')\n",
        "plt.xlabel('Age')\n",
        "plt.ylabel('Estimated Salary')\n",
        "plt.legend()\n",
        "plt.show()"
      ],
      "metadata": {
        "colab": {
          "base_uri": "https://localhost:8080/",
          "height": 527
        },
        "id": "Re3vuHfj4s15",
        "outputId": "651816c0-69fa-4df8-e01b-64457a771bab"
      },
      "execution_count": null,
      "outputs": [
        {
          "output_type": "stream",
          "name": "stderr",
          "text": [
            "<ipython-input-149-28b64e7b7ff6>:11: UserWarning: *c* argument looks like a single numeric RGB or RGBA sequence, which should be avoided as value-mapping will have precedence in case its length matches with *x* & *y*.  Please use the *color* keyword-argument or provide a 2D array with a single row if you intend to specify the same RGB or RGBA value for all points.\n",
            "  plt.scatter(X_set[y_set == j, 0], X_set[y_set == j, 1],\n"
          ]
        },
        {
          "output_type": "display_data",
          "data": {
            "text/plain": [
              "<Figure size 640x480 with 1 Axes>"
            ],
            "image/png": "[encoded data removed]"
          },
          "metadata": {}
        }
      ]
    },
    {
      "cell_type": "code",
      "source": [
        "\n",
        "\n",
        "\n",
        "# Visualising the Test set results\n",
        "from matplotlib.colors import ListedColormap\n",
        "X_set, y_set = X_test, y_test\n",
        "X1, X2 = np.meshgrid(np.arange(start = X_set[:, 0].min() - 1, stop = X_set[:, 0].max() + 1, step = 0.01),\n",
        "                     np.arange(start = X_set[:, 1].min() - 1, stop = X_set[:, 1].max() + 1, step = 0.01))\n",
        "plt.contourf(X1, X2, classifier.predict(np.array([X1.ravel(), X2.ravel()]).T).reshape(X1.shape),\n",
        "             alpha = 0.75, cmap = ListedColormap(('red', 'green')))\n",
        "plt.xlim(X1.min(), X1.max())\n",
        "plt.ylim(X2.min(), X2.max())\n",
        "for i, j in enumerate(np.unique(y_set)):\n",
        "    plt.scatter(X_set[y_set == j, 0], X_set[y_set == j, 1],\n",
        "                c = ListedColormap(('red', 'green'))(i), label = j)\n",
        "plt.title('Decision Tree Classification (Test set)')\n",
        "plt.xlabel('Age')\n",
        "plt.ylabel('Estimated Salary')\n",
        "plt.legend()\n",
        "plt.show()"
      ],
      "metadata": {
        "id": "hcWCj51Skt3W",
        "colab": {
          "base_uri": "https://localhost:8080/",
          "height": 527
        },
        "outputId": "d8ef2b49-2072-49f9-f027-777f714c2928"
      },
      "execution_count": null,
      "outputs": [
        {
          "output_type": "stream",
          "name": "stderr",
          "text": [
            "<ipython-input-317-ddd7f47bf06d>:11: UserWarning: *c* argument looks like a single numeric RGB or RGBA sequence, which should be avoided as value-mapping will have precedence in case its length matches with *x* & *y*.  Please use the *color* keyword-argument or provide a 2D array with a single row if you intend to specify the same RGB or RGBA value for all points.\n",
            "  plt.scatter(X_set[y_set == j, 0], X_set[y_set == j, 1],\n"
          ]
        },
        {
          "output_type": "display_data",
          "data": {
            "text/plain": [
              "<Figure size 640x480 with 1 Axes>"
            ],
            "image/png": "[encoded data removed]"
          },
          "metadata": {}
        }
      ]
    },
    {
      "cell_type": "code",
      "source": [],
      "metadata": {
        "id": "tO8r7PaLSCHB"
      },
      "execution_count": null,
      "outputs": []
    },
    {
      "cell_type": "code",
      "source": [],
      "metadata": {
        "id": "eb2n3VMxSCDK"
      },
      "execution_count": null,
      "outputs": []
    },
    {
      "cell_type": "code",
      "source": [],
      "metadata": {
        "id": "IMGT_suuSB_Z"
      },
      "execution_count": null,
      "outputs": []
    },
    {
      "cell_type": "code",
      "source": [],
      "metadata": {
        "id": "XpeIkhBNSB6X"
      },
      "execution_count": null,
      "outputs": []
    },
    {
      "cell_type": "markdown",
      "source": [
        "## .,"
      ],
      "metadata": {
        "id": "U9OU14FPksZL"
      }
    },
    {
      "cell_type": "markdown",
      "source": [
        "التابع التكلفة (Cost Function) هو مفهوم أساسي في تعلم الآلة، خصوصًا في الخوارزميات التي تعتمد على التحسين التكراري. هو يقيس مدى بعد التنبؤات التي يقوم بها النموذج عن القيم الحقيقية.\n",
        "\n",
        "لنقم بشرح هذا المفهوم بتفصيل:\n",
        "\n",
        "### التابع التكلفة (Cost Function):\n",
        "\n",
        "1. **الهدف:**\n",
        "   - الهدف من التابع التكلفة هو قياس الفرق بين التنبؤات التي يقوم بها النموذج والقيم الحقيقية للبيانات. ببساطة، هو يقيس \"تكلفة\" أو \"خطأ\" النموذج.\n",
        "\n",
        "2. **كيف يعمل:**\n",
        "   - في سياق الانحدار الخطي، يتم استخدام تابع التكلفة المعروف باسم \"Mean Squared Error (MSE)\" وهو متوسط مربعات الأخطاء بين التنبؤات والقيم الحقيقية.\n",
        "   - في سياق الانحدار اللوجستي، يتم استخدام تابع التكلفة المعروف باسم \"Cross-Entropy Loss\" أو \"Log Loss\".\n",
        "\n",
        "3. **الاستخدام:**\n",
        "   - بمجرد تحديد تابع التكلفة، يمكن استخدام تقنيات التحسين مثل \"Gradient Descent\" لتعديل المعلمات (parameters) للنموذج بهدف تقليل قيمة التكلفة.\n",
        "   - الهدف هو الوصول إلى النموذج الذي يقلل من تابع التكلفة قدر الإمكان، مما يعني الحصول على أقل خطأ ممكن بين التنبؤات والقيم الحقيقية.\n"
      ],
      "metadata": {
        "id": "DhUBtXb3Mmti"
      }
    },
    {
      "cell_type": "code",
      "execution_count": null,
      "metadata": {
        "id": "LjZb7WA-JIEQ"
      },
      "outputs": [],
      "source": []
    },
    {
      "cell_type": "code",
      "source": [],
      "metadata": {
        "id": "rPgMlTSDNRQs"
      },
      "execution_count": null,
      "outputs": []
    },
    {
      "cell_type": "code",
      "source": [],
      "metadata": {
        "id": "ySmGglM6NRLk"
      },
      "execution_count": null,
      "outputs": []
    },
    {
      "cell_type": "markdown",
      "source": [
        "الانحدار التدريجي (Gradient Descent) هو أحد أشهر الخوارزميات المستخدمة لتحسين وتحديث المعلمات في النماذج التي تعتمد على التعلم الخاضع للإشراف. يتم استخدامه لتقليل قيمة تابع التكلفة.\n",
        "\n",
        "لنقم بشرح هذا المفهوم بتفصيل:\n",
        "\n",
        "### الانحدار التدريجي (Gradient Descent):\n",
        "\n",
        "1. **الفكرة الأساسية:**\n",
        "   - الهدف من الانحدار التدريجي هو الوصول إلى الحد الأدنى لتابع التكلفة (أو الخطأ) بتحديث المعلمات تدريجيًا في الاتجاه المعاكس للتدريج (المشتقة) لتابع التكلفة.\n",
        "\n",
        "2. **كيف يعمل:**\n",
        "   - تبدأ بتخصيص قيم عشوائية للمعلمات.\n",
        "   - تحسب تابع التكلفة باستخدام القيم الحالية للمعلمات.\n",
        "   - تحسب التدريج (المشتقة) لتابع التكلفة بالنسبة لكل معلم.\n",
        "   - تقوم بتحديث المعلمات في الاتجاه المعاكس للتدريج باستخدام معدل تعلم محدد.\n",
        "   - تكرر الخطوات السابقة حتى تصل إلى الحد الأدنى لتابع التكلفة أو حتى تحقق تقاربًا.\n",
        "\n",
        "3. **الاستخدام:**\n",
        "   - يُستخدم في تحسين العديد من النماذج في تعلم الآلة، مثل الانحدار الخطي والانحدار اللوجستي وشبكات العصبونات الاصطناعية.\n",
        "\n",
        "### أمور يجب مراعاتها:\n",
        "\n",
        "1. **معدل التعلم (Learning Rate):** هو معامل يحدد مدى كبر الخطوة التي نأخذها في كل تحديث. إذا كان معدل التعلم كبيرًا جدًا، فقد نتجاوز الحد الأدنى، وإذا كان صغيرًا جدًا، فقد يستغرق الأمر وقتًا طويلاً للتقارب.\n",
        "\n",
        "\n",
        "في النهاية، الانحدار التدريجي هو أداة قوية لتحسين النماذج في تعلم الآلة، ولكن يجب استخدامه بحذر وفهم لضمان الحصول على أفضل نتائج.\n",
        "\n"
      ],
      "metadata": {
        "id": "YqpEvI32NRlj"
      }
    },
    {
      "cell_type": "code",
      "source": [],
      "metadata": {
        "id": "mDKXF27VNTAK"
      },
      "execution_count": null,
      "outputs": []
    },
    {
      "cell_type": "code",
      "source": [],
      "metadata": {
        "id": "kNd1DRhvP4Ht"
      },
      "execution_count": null,
      "outputs": []
    },
    {
      "cell_type": "markdown",
      "source": [],
      "metadata": {
        "id": "_sqw84RrP3_t"
      }
    },
    {
      "cell_type": "markdown",
      "source": [
        "## linear"
      ],
      "metadata": {
        "id": "y6UCdsbRJNh-"
      }
    },
    {
      "cell_type": "markdown",
      "source": [
        "### ما هي خوارزميّة التّوقّع الخطّيّ  ؟\n",
        "\n",
        "هي خوارزميّة تعرف علاقة خطّيّة بين متغيّر مستقلّ ومتغيّر تابع، بهدف التنبّؤ بنتيجة الأحداث المستقبليّة.\n",
        "\n",
        "وهي خوارزميّة تعلّم بالإشراف\n",
        " تحاكي العلاقة الرّياضيّة بين المتغيّرات، وتضع تنبّؤات للمتغيّرات المستمرّة أو الرّقميّة مثل المبيعات أو الرّاتب أو العمر أوسعر المنتج، وغيرها.\n",
        "![Screenshot-2023-03-10-213031-1.png](data:image/png;base64,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)\n",
        "\n",
        "\n",
        "\n",
        "حيث أنّ :\n",
        "\n",
        " عوامل المعادلة: θ0و θ1   \n",
        "\n",
        "عيّنة من البيانات: x\n",
        "\n",
        " النّتيجة المتوقّعة :hθ(x)\n",
        "\n",
        "في أيّ مسألة توقّع خطّيّ يكون هدفنا بسيطًا:\n",
        "\n",
        "بالنّظر إلى مجموعة التّدريب، نريد أن تتعلّم الدّالة h: x → y بحيث تكون (h (x توقعًا  جيدًّا مقابل القيمة الفعليّة y (أفضل علاقة خطّيّة ممكنة) كما هو موضّح في الشّكل التّالي:\n",
        "![Screenshot-2023-03-07-203230-1.png](data:image/png;base64,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)\n",
        "\n",
        "ولكن كيف نحدّد قيمة العوامل  θ0 و θ1 بحيث تحقّق أفضل علاقة خطّيّة best fit والملاءمة الأفضل ؟ الجواب أنّه علينا الاستعانة بتابع التّكلف"
      ],
      "metadata": {
        "id": "NQRb8yAO3zVF"
      }
    },
    {
      "cell_type": "code",
      "source": [
        "\n",
        "# Importing the libraries\n",
        "import numpy as np\n",
        "import matplotlib.pyplot as plt\n",
        "import pandas as pd\n",
        "from sklearn.metrics import accuracy_score\n",
        "from sklearn.metrics import mean_absolute_error\n",
        "\n",
        "\n",
        "%matplotlib inline\n",
        "X_train"
      ],
      "metadata": {
        "id": "SdsF78ewT88Q",
        "colab": {
          "base_uri": "https://localhost:8080/",
          "height": 424
        },
        "outputId": "2c032f0a-ce93-4179-a52e-0049bbb81cde"
      },
      "execution_count": null,
      "outputs": [
        {
          "output_type": "execute_result",
          "data": {
            "text/plain": [
              "       longitude  latitude  housing_median_age  total_rooms  total_bedrooms  \\\n",
              "7061     -118.02     33.93                35.0       2400.0           398.0   \n",
              "14689    -117.09     32.79                20.0       2183.0           534.0   \n",
              "17323    -120.14     34.59                24.0       1601.0           282.0   \n",
              "10056    -121.00     39.26                14.0        810.0           151.0   \n",
              "15750    -122.45     37.77                52.0       3188.0           708.0   \n",
              "...          ...       ...                 ...          ...             ...   \n",
              "11284    -117.96     33.78                35.0       1330.0           201.0   \n",
              "11964    -117.43     34.02                33.0       3084.0           570.0   \n",
              "5390     -118.38     34.03                36.0       2101.0           569.0   \n",
              "860      -121.96     37.58                15.0       3575.0           597.0   \n",
              "15795    -122.42     37.77                52.0       4226.0          1315.0   \n",
              "\n",
              "       population  households  median_income  ocean_proximity  \n",
              "7061       1218.0       408.0         4.1312                0  \n",
              "14689       999.0       496.0         2.8631                4  \n",
              "17323       731.0       285.0         4.2026                4  \n",
              "10056       302.0       138.0         3.1094                1  \n",
              "15750      1526.0       664.0         3.3068                3  \n",
              "...           ...         ...            ...              ...  \n",
              "11284       658.0       217.0         6.3700                0  \n",
              "11964      1753.0       449.0         3.0500                1  \n",
              "5390       1756.0       527.0         2.9344                0  \n",
              "860        1777.0       559.0         5.7192                0  \n",
              "15795      2619.0      1242.0         2.5755                3  \n",
              "\n",
              "[14448 rows x 9 columns]"
            ],
            "text/html": [
              "\n",
              "  <div id=\"df-07e116c0-42c0-42c6-b937-083486ff5cbc\" class=\"colab-df-container\">\n",
              "    <div>\n",
              "<style scoped>\n",
              "    .dataframe tbody tr th:only-of-type {\n",
              "        vertical-align: middle;\n",
              "    }\n",
              "\n",
              "    .dataframe tbody tr th {\n",
              "        vertical-align: top;\n",
              "    }\n",
              "\n",
              "    .dataframe thead th {\n",
              "        text-align: right;\n",
              "    }\n",
              "</style>\n",
              "<table border=\"1\" class=\"dataframe\">\n",
              "  <thead>\n",
              "    <tr style=\"text-align: right;\">\n",
              "      <th></th>\n",
              "      <th>longitude</th>\n",
              "      <th>latitude</th>\n",
              "      <th>housing_median_age</th>\n",
              "      <th>total_rooms</th>\n",
              "      <th>total_bedrooms</th>\n",
              "      <th>population</th>\n",
              "      <th>households</th>\n",
              "      <th>median_income</th>\n",
              "      <th>ocean_proximity</th>\n",
              "    </tr>\n",
              "  </thead>\n",
              "  <tbody>\n",
              "    <tr>\n",
              "      <th>7061</th>\n",
              "      <td>-118.02</td>\n",
              "      <td>33.93</td>\n",
              "      <td>35.0</td>\n",
              "      <td>2400.0</td>\n",
              "      <td>398.0</td>\n",
              "      <td>1218.0</td>\n",
              "      <td>408.0</td>\n",
              "      <td>4.1312</td>\n",
              "      <td>0</td>\n",
              "    </tr>\n",
              "    <tr>\n",
              "      <th>14689</th>\n",
              "      <td>-117.09</td>\n",
              "      <td>32.79</td>\n",
              "      <td>20.0</td>\n",
              "      <td>2183.0</td>\n",
              "      <td>534.0</td>\n",
              "      <td>999.0</td>\n",
              "      <td>496.0</td>\n",
              "      <td>2.8631</td>\n",
              "      <td>4</td>\n",
              "    </tr>\n",
              "    <tr>\n",
              "      <th>17323</th>\n",
              "      <td>-120.14</td>\n",
              "      <td>34.59</td>\n",
              "      <td>24.0</td>\n",
              "      <td>1601.0</td>\n",
              "      <td>282.0</td>\n",
              "      <td>731.0</td>\n",
              "      <td>285.0</td>\n",
              "      <td>4.2026</td>\n",
              "      <td>4</td>\n",
              "    </tr>\n",
              "    <tr>\n",
              "      <th>10056</th>\n",
              "      <td>-121.00</td>\n",
              "      <td>39.26</td>\n",
              "      <td>14.0</td>\n",
              "      <td>810.0</td>\n",
              "      <td>151.0</td>\n",
              "      <td>302.0</td>\n",
              "      <td>138.0</td>\n",
              "      <td>3.1094</td>\n",
              "      <td>1</td>\n",
              "    </tr>\n",
              "    <tr>\n",
              "      <th>15750</th>\n",
              "      <td>-122.45</td>\n",
              "      <td>37.77</td>\n",
              "      <td>52.0</td>\n",
              "      <td>3188.0</td>\n",
              "      <td>708.0</td>\n",
              "      <td>1526.0</td>\n",
              "      <td>664.0</td>\n",
              "      <td>3.3068</td>\n",
              "      <td>3</td>\n",
              "    </tr>\n",
              "    <tr>\n",
              "      <th>...</th>\n",
              "      <td>...</td>\n",
              "      <td>...</td>\n",
              "      <td>...</td>\n",
              "      <td>...</td>\n",
              "      <td>...</td>\n",
              "      <td>...</td>\n",
              "      <td>...</td>\n",
              "      <td>...</td>\n",
              "      <td>...</td>\n",
              "    </tr>\n",
              "    <tr>\n",
              "      <th>11284</th>\n",
              "      <td>-117.96</td>\n",
              "      <td>33.78</td>\n",
              "      <td>35.0</td>\n",
              "      <td>1330.0</td>\n",
              "      <td>201.0</td>\n",
              "      <td>658.0</td>\n",
              "      <td>217.0</td>\n",
              "      <td>6.3700</td>\n",
              "      <td>0</td>\n",
              "    </tr>\n",
              "    <tr>\n",
              "      <th>11964</th>\n",
              "      <td>-117.43</td>\n",
              "      <td>34.02</td>\n",
              "      <td>33.0</td>\n",
              "      <td>3084.0</td>\n",
              "      <td>570.0</td>\n",
              "      <td>1753.0</td>\n",
              "      <td>449.0</td>\n",
              "      <td>3.0500</td>\n",
              "      <td>1</td>\n",
              "    </tr>\n",
              "    <tr>\n",
              "      <th>5390</th>\n",
              "      <td>-118.38</td>\n",
              "      <td>34.03</td>\n",
              "      <td>36.0</td>\n",
              "      <td>2101.0</td>\n",
              "      <td>569.0</td>\n",
              "      <td>1756.0</td>\n",
              "      <td>527.0</td>\n",
              "      <td>2.9344</td>\n",
              "      <td>0</td>\n",
              "    </tr>\n",
              "    <tr>\n",
              "      <th>860</th>\n",
              "      <td>-121.96</td>\n",
              "      <td>37.58</td>\n",
              "      <td>15.0</td>\n",
              "      <td>3575.0</td>\n",
              "      <td>597.0</td>\n",
              "      <td>1777.0</td>\n",
              "      <td>559.0</td>\n",
              "      <td>5.7192</td>\n",
              "      <td>0</td>\n",
              "    </tr>\n",
              "    <tr>\n",
              "      <th>15795</th>\n",
              "      <td>-122.42</td>\n",
              "      <td>37.77</td>\n",
              "      <td>52.0</td>\n",
              "      <td>4226.0</td>\n",
              "      <td>1315.0</td>\n",
              "      <td>2619.0</td>\n",
              "      <td>1242.0</td>\n",
              "      <td>2.5755</td>\n",
              "      <td>3</td>\n",
              "    </tr>\n",
              "  </tbody>\n",
              "</table>\n",
              "<p>14448 rows × 9 columns</p>\n",
              "</div>\n",
              "    <div class=\"colab-df-buttons\">\n",
              "\n",
              "  <div class=\"colab-df-container\">\n",
              "    <button class=\"colab-df-convert\" onclick=\"convertToInteractive('df-07e116c0-42c0-42c6-b937-083486ff5cbc')\"\n",
              "            title=\"Convert this dataframe to an interactive table.\"\n",
              "            style=\"display:none;\">\n",
              "\n",
              "  <svg xmlns=\"http://www.w3.org/2000/svg\" height=\"24px\" viewBox=\"0 -960 960 960\">\n",
              "    <path d=\"M120-120v-720h720v720H120Zm60-500h600v-160H180v160Zm220 220h160v-160H400v160Zm0 220h160v-160H400v160ZM180-400h160v-160H180v160Zm440 0h160v-160H620v160ZM180-180h160v-160H180v160Zm440 0h160v-160H620v160Z\"/>\n",
              "  </svg>\n",
              "    </button>\n",
              "\n",
              "  <style>\n",
              "    .colab-df-container {\n",
              "      display:flex;\n",
              "      gap: 12px;\n",
              "    }\n",
              "\n",
              "    .colab-df-convert {\n",
              "      background-color: #E8F0FE;\n",
              "      border: none;\n",
              "      border-radius: 50%;\n",
              "      cursor: pointer;\n",
              "      display: none;\n",
              "      fill: #1967D2;\n",
              "      height: 32px;\n",
              "      padding: 0 0 0 0;\n",
              "      width: 32px;\n",
              "    }\n",
              "\n",
              "    .colab-df-convert:hover {\n",
              "      background-color: #E2EBFA;\n",
              "      box-shadow: 0px 1px 2px rgba(60, 64, 67, 0.3), 0px 1px 3px 1px rgba(60, 64, 67, 0.15);\n",
              "      fill: #174EA6;\n",
              "    }\n",
              "\n",
              "    .colab-df-buttons div {\n",
              "      margin-bottom: 4px;\n",
              "    }\n",
              "\n",
              "    [theme=dark] .colab-df-convert {\n",
              "      background-color: #3B4455;\n",
              "      fill: #D2E3FC;\n",
              "    }\n",
              "\n",
              "    [theme=dark] .colab-df-convert:hover {\n",
              "      background-color: #434B5C;\n",
              "      box-shadow: 0px 1px 3px 1px rgba(0, 0, 0, 0.15);\n",
              "      filter: drop-shadow(0px 1px 2px rgba(0, 0, 0, 0.3));\n",
              "      fill: #FFFFFF;\n",
              "    }\n",
              "  </style>\n",
              "\n",
              "    <script>\n",
              "      const buttonEl =\n",
              "        document.querySelector('#df-07e116c0-42c0-42c6-b937-083486ff5cbc button.colab-df-convert');\n",
              "      buttonEl.style.display =\n",
              "        google.colab.kernel.accessAllowed ? 'block' : 'none';\n",
              "\n",
              "      async function convertToInteractive(key) {\n",
              "        const element = document.querySelector('#df-07e116c0-42c0-42c6-b937-083486ff5cbc');\n",
              "        const dataTable =\n",
              "          await google.colab.kernel.invokeFunction('convertToInteractive',\n",
              "                                                    [key], {});\n",
              "        if (!dataTable) return;\n",
              "\n",
              "        const docLinkHtml = 'Like what you see? Visit the ' +\n",
              "          '<a target=\"_blank\" href=https://colab.research.google.com/notebooks/data_table.ipynb>data table notebook</a>'\n",
              "          + ' to learn more about interactive tables.';\n",
              "        element.innerHTML = '';\n",
              "        dataTable['output_type'] = 'display_data';\n",
              "        await google.colab.output.renderOutput(dataTable, element);\n",
              "        const docLink = document.createElement('div');\n",
              "        docLink.innerHTML = docLinkHtml;\n",
              "        element.appendChild(docLink);\n",
              "      }\n",
              "    </script>\n",
              "  </div>\n",
              "\n",
              "\n",
              "<div id=\"df-3c6d45f8-720e-4001-a6b0-b9bf9014c539\">\n",
              "  <button class=\"colab-df-quickchart\" onclick=\"quickchart('df-3c6d45f8-720e-4001-a6b0-b9bf9014c539')\"\n",
              "            title=\"Suggest charts.\"\n",
              "            style=\"display:none;\">\n",
              "\n",
              "<svg xmlns=\"http://www.w3.org/2000/svg\" height=\"24px\"viewBox=\"0 0 24 24\"\n",
              "     width=\"24px\">\n",
              "    <g>\n",
              "        <path d=\"M19 3H5c-1.1 0-2 .9-2 2v14c0 1.1.9 2 2 2h14c1.1 0 2-.9 2-2V5c0-1.1-.9-2-2-2zM9 17H7v-7h2v7zm4 0h-2V7h2v10zm4 0h-2v-4h2v4z\"/>\n",
              "    </g>\n",
              "</svg>\n",
              "  </button>\n",
              "\n",
              "<style>\n",
              "  .colab-df-quickchart {\n",
              "      --bg-color: #E8F0FE;\n",
              "      --fill-color: #1967D2;\n",
              "      --hover-bg-color: #E2EBFA;\n",
              "      --hover-fill-color: #174EA6;\n",
              "      --disabled-fill-color: #AAA;\n",
              "      --disabled-bg-color: #DDD;\n",
              "  }\n",
              "\n",
              "  [theme=dark] .colab-df-quickchart {\n",
              "      --bg-color: #3B4455;\n",
              "      --fill-color: #D2E3FC;\n",
              "      --hover-bg-color: #434B5C;\n",
              "      --hover-fill-color: #FFFFFF;\n",
              "      --disabled-bg-color: #3B4455;\n",
              "      --disabled-fill-color: #666;\n",
              "  }\n",
              "\n",
              "  .colab-df-quickchart {\n",
              "    background-color: var(--bg-color);\n",
              "    border: none;\n",
              "    border-radius: 50%;\n",
              "    cursor: pointer;\n",
              "    display: none;\n",
              "    fill: var(--fill-color);\n",
              "    height: 32px;\n",
              "    padding: 0;\n",
              "    width: 32px;\n",
              "  }\n",
              "\n",
              "  .colab-df-quickchart:hover {\n",
              "    background-color: var(--hover-bg-color);\n",
              "    box-shadow: 0 1px 2px rgba(60, 64, 67, 0.3), 0 1px 3px 1px rgba(60, 64, 67, 0.15);\n",
              "    fill: var(--button-hover-fill-color);\n",
              "  }\n",
              "\n",
              "  .colab-df-quickchart-complete:disabled,\n",
              "  .colab-df-quickchart-complete:disabled:hover {\n",
              "    background-color: var(--disabled-bg-color);\n",
              "    fill: var(--disabled-fill-color);\n",
              "    box-shadow: none;\n",
              "  }\n",
              "\n",
              "  .colab-df-spinner {\n",
              "    border: 2px solid var(--fill-color);\n",
              "    border-color: transparent;\n",
              "    border-bottom-color: var(--fill-color);\n",
              "    animation:\n",
              "      spin 1s steps(1) infinite;\n",
              "  }\n",
              "\n",
              "  @keyframes spin {\n",
              "    0% {\n",
              "      border-color: transparent;\n",
              "      border-bottom-color: var(--fill-color);\n",
              "      border-left-color: var(--fill-color);\n",
              "    }\n",
              "    20% {\n",
              "      border-color: transparent;\n",
              "      border-left-color: var(--fill-color);\n",
              "      border-top-color: var(--fill-color);\n",
              "    }\n",
              "    30% {\n",
              "      border-color: transparent;\n",
              "      border-left-color: var(--fill-color);\n",
              "      border-top-color: var(--fill-color);\n",
              "      border-right-color: var(--fill-color);\n",
              "    }\n",
              "    40% {\n",
              "      border-color: transparent;\n",
              "      border-right-color: var(--fill-color);\n",
              "      border-top-color: var(--fill-color);\n",
              "    }\n",
              "    60% {\n",
              "      border-color: transparent;\n",
              "      border-right-color: var(--fill-color);\n",
              "    }\n",
              "    80% {\n",
              "      border-color: transparent;\n",
              "      border-right-color: var(--fill-color);\n",
              "      border-bottom-color: var(--fill-color);\n",
              "    }\n",
              "    90% {\n",
              "      border-color: transparent;\n",
              "      border-bottom-color: var(--fill-color);\n",
              "    }\n",
              "  }\n",
              "</style>\n",
              "\n",
              "  <script>\n",
              "    async function quickchart(key) {\n",
              "      const quickchartButtonEl =\n",
              "        document.querySelector('#' + key + ' button');\n",
              "      quickchartButtonEl.disabled = true;  // To prevent multiple clicks.\n",
              "      quickchartButtonEl.classList.add('colab-df-spinner');\n",
              "      try {\n",
              "        const charts = await google.colab.kernel.invokeFunction(\n",
              "            'suggestCharts', [key], {});\n",
              "      } catch (error) {\n",
              "        console.error('Error during call to suggestCharts:', error);\n",
              "      }\n",
              "      quickchartButtonEl.classList.remove('colab-df-spinner');\n",
              "      quickchartButtonEl.classList.add('colab-df-quickchart-complete');\n",
              "    }\n",
              "    (() => {\n",
              "      let quickchartButtonEl =\n",
              "        document.querySelector('#df-3c6d45f8-720e-4001-a6b0-b9bf9014c539 button');\n",
              "      quickchartButtonEl.style.display =\n",
              "        google.colab.kernel.accessAllowed ? 'block' : 'none';\n",
              "    })();\n",
              "  </script>\n",
              "</div>\n",
              "    </div>\n",
              "  </div>\n"
            ]
          },
          "metadata": {},
          "execution_count": 49
        }
      ]
    },
    {
      "cell_type": "markdown",
      "source": [
        "### تدريب النموذج"
      ],
      "metadata": {
        "id": "aWFG-aJY09lR"
      }
    },
    {
      "cell_type": "code",
      "source": [
        "from sklearn.ensemble import RandomForestRegressor\n",
        "\n",
        "# Initialize and train the Random Forest regressor\n",
        "rf_model = RandomForestRegressor(n_estimators=150,max_depth=50, random_state=42)\n",
        "rf_model.fit(X_train, y_train)\n",
        "\n",
        "# Predict on the test set\n",
        "y_rf_pred = rf_model.predict(X_test)\n",
        "\n",
        "# Calculate the R^2 score for the Random Forest model on the test set\n",
        "r2_score_rf = rf_model.score(X_test, y_test)\n",
        "r2_score_rf\n"
      ],
      "metadata": {
        "colab": {
          "base_uri": "https://localhost:8080/"
        },
        "id": "o2g0PyM-unhB",
        "outputId": "da98c75a-be67-4384-9c1d-aa1418145a2b"
      },
      "execution_count": null,
      "outputs": [
        {
          "output_type": "execute_result",
          "data": {
            "text/plain": [
              "0.8067820785325317"
            ]
          },
          "metadata": {},
          "execution_count": 64
        }
      ]
    },
    {
      "cell_type": "code",
      "source": [
        "\n",
        "# Fitting Simple Linear Regression to the Training set\n",
        "from sklearn.linear_model import LinearRegression\n",
        "# Initialize the linear regression model with parameters\n",
        "regressor=LinearRegression(fit_intercept=True,  copy_X=True, n_jobs=1)\n",
        "\n",
        "regressor.fit(X_train, y_train)"
      ],
      "metadata": {
        "colab": {
          "base_uri": "https://localhost:8080/",
          "height": 75
        },
        "id": "FuTNkCYyUFGD",
        "outputId": "038b98d0-f82f-4d8c-bf38-6c04ade1bd57"
      },
      "execution_count": null,
      "outputs": [
        {
          "output_type": "execute_result",
          "data": {
            "text/plain": [
              "LinearRegression(n_jobs=1)"
            ],
            "text/html": [
              "<style>#sk-container-id-2 {color: black;background-color: white;}#sk-container-id-2 pre{padding: 0;}#sk-container-id-2 div.sk-toggleable {background-color: white;}#sk-container-id-2 label.sk-toggleable__label {cursor: pointer;display: block;width: 100%;margin-bottom: 0;padding: 0.3em;box-sizing: border-box;text-align: center;}#sk-container-id-2 label.sk-toggleable__label-arrow:before {content: \"▸\";float: left;margin-right: 0.25em;color: #696969;}#sk-container-id-2 label.sk-toggleable__label-arrow:hover:before {color: black;}#sk-container-id-2 div.sk-estimator:hover label.sk-toggleable__label-arrow:before {color: black;}#sk-container-id-2 div.sk-toggleable__content {max-height: 0;max-width: 0;overflow: hidden;text-align: left;background-color: #f0f8ff;}#sk-container-id-2 div.sk-toggleable__content pre {margin: 0.2em;color: black;border-radius: 0.25em;background-color: #f0f8ff;}#sk-container-id-2 input.sk-toggleable__control:checked~div.sk-toggleable__content {max-height: 200px;max-width: 100%;overflow: auto;}#sk-container-id-2 input.sk-toggleable__control:checked~label.sk-toggleable__label-arrow:before {content: \"▾\";}#sk-container-id-2 div.sk-estimator input.sk-toggleable__control:checked~label.sk-toggleable__label {background-color: #d4ebff;}#sk-container-id-2 div.sk-label input.sk-toggleable__control:checked~label.sk-toggleable__label {background-color: #d4ebff;}#sk-container-id-2 input.sk-hidden--visually {border: 0;clip: rect(1px 1px 1px 1px);clip: rect(1px, 1px, 1px, 1px);height: 1px;margin: -1px;overflow: hidden;padding: 0;position: absolute;width: 1px;}#sk-container-id-2 div.sk-estimator {font-family: monospace;background-color: #f0f8ff;border: 1px dotted black;border-radius: 0.25em;box-sizing: border-box;margin-bottom: 0.5em;}#sk-container-id-2 div.sk-estimator:hover {background-color: #d4ebff;}#sk-container-id-2 div.sk-parallel-item::after {content: \"\";width: 100%;border-bottom: 1px solid gray;flex-grow: 1;}#sk-container-id-2 div.sk-label:hover label.sk-toggleable__label {background-color: #d4ebff;}#sk-container-id-2 div.sk-serial::before {content: \"\";position: absolute;border-left: 1px solid gray;box-sizing: border-box;top: 0;bottom: 0;left: 50%;z-index: 0;}#sk-container-id-2 div.sk-serial {display: flex;flex-direction: column;align-items: center;background-color: white;padding-right: 0.2em;padding-left: 0.2em;position: relative;}#sk-container-id-2 div.sk-item {position: relative;z-index: 1;}#sk-container-id-2 div.sk-parallel {display: flex;align-items: stretch;justify-content: center;background-color: white;position: relative;}#sk-container-id-2 div.sk-item::before, #sk-container-id-2 div.sk-parallel-item::before {content: \"\";position: absolute;border-left: 1px solid gray;box-sizing: border-box;top: 0;bottom: 0;left: 50%;z-index: -1;}#sk-container-id-2 div.sk-parallel-item {display: flex;flex-direction: column;z-index: 1;position: relative;background-color: white;}#sk-container-id-2 div.sk-parallel-item:first-child::after {align-self: flex-end;width: 50%;}#sk-container-id-2 div.sk-parallel-item:last-child::after {align-self: flex-start;width: 50%;}#sk-container-id-2 div.sk-parallel-item:only-child::after {width: 0;}#sk-container-id-2 div.sk-dashed-wrapped {border: 1px dashed gray;margin: 0 0.4em 0.5em 0.4em;box-sizing: border-box;padding-bottom: 0.4em;background-color: white;}#sk-container-id-2 div.sk-label label {font-family: monospace;font-weight: bold;display: inline-block;line-height: 1.2em;}#sk-container-id-2 div.sk-label-container {text-align: center;}#sk-container-id-2 div.sk-container {/* jupyter's `normalize.less` sets `[hidden] { display: none; }` but bootstrap.min.css set `[hidden] { display: none !important; }` so we also need the `!important` here to be able to override the default hidden behavior on the sphinx rendered scikit-learn.org. See: https://github.com/scikit-learn/scikit-learn/issues/21755 */display: inline-block !important;position: relative;}#sk-container-id-2 div.sk-text-repr-fallback {display: none;}</style><div id=\"sk-container-id-2\" class=\"sk-top-container\"><div class=\"sk-text-repr-fallback\"><pre>LinearRegression(n_jobs=1)</pre><b>In a Jupyter environment, please rerun this cell to show the HTML representation or trust the notebook. <br />On GitHub, the HTML representation is unable to render, please try loading this page with nbviewer.org.</b></div><div class=\"sk-container\" hidden><div class=\"sk-item\"><div class=\"sk-estimator sk-toggleable\"><input class=\"sk-toggleable__control sk-hidden--visually\" id=\"sk-estimator-id-2\" type=\"checkbox\" checked><label for=\"sk-estimator-id-2\" class=\"sk-toggleable__label sk-toggleable__label-arrow\">LinearRegression</label><div class=\"sk-toggleable__content\"><pre>LinearRegression(n_jobs=1)</pre></div></div></div></div></div>"
            ]
          },
          "metadata": {},
          "execution_count": 50
        }
      ]
    },
    {
      "cell_type": "code",
      "source": [
        "# Predicting the Test set results\n",
        "y_pred = regressor.predict(X_test)"
      ],
      "metadata": {
        "id": "YGaCRzP2UHAe"
      },
      "execution_count": null,
      "outputs": []
    },
    {
      "cell_type": "markdown",
      "source": [
        "### تقييم النموذج"
      ],
      "metadata": {
        "id": "9899dpys1C1J"
      }
    },
    {
      "cell_type": "code",
      "source": [
        "from sklearn.metrics import mean_absolute_error, r2_score\n",
        "\n",
        "# For the test set\n",
        "r2_test = r2_score(y_test, y_pred)\n",
        "print(f\"Test R^2: {r2_test}\")\n",
        "\n",
        "\n",
        "# For the test set\n",
        "mae_test = mean_absolute_error(y_test, y_pred)\n",
        "print(f\"Test MAE: {mae_test}\")\n",
        "\n"
      ],
      "metadata": {
        "colab": {
          "base_uri": "https://localhost:8080/"
        },
        "id": "Gtthb5qLUMOm",
        "outputId": "c2227e0c-8086-4ad9-e555-cd75dd1e1f50"
      },
      "execution_count": null,
      "outputs": [
        {
          "output_type": "stream",
          "name": "stdout",
          "text": [
            "Test R^2: 0.6196137788369984\n",
            "Test MAE: 51621.48535377637\n"
          ]
        }
      ]
    },
    {
      "cell_type": "code",
      "source": [],
      "metadata": {
        "id": "UyvoOhtJUNun"
      },
      "execution_count": null,
      "outputs": []
    }
  ]
}